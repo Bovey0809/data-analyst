{
 "cells": [
  {
   "cell_type": "code",
   "execution_count": 1,
   "metadata": {
    "collapsed": true
   },
   "outputs": [],
   "source": [
    "import numpy as np\n",
    "import pandas as pd\n",
    "import tweepy\n",
    "%matplotlib inline\n",
    "from matplotlib import pyplot as plt\n",
    "import requests\n",
    "import os \n",
    "import timeit\n",
    "import time\n",
    "import json"
   ]
  },
  {
   "cell_type": "markdown",
   "metadata": {},
   "source": [
    "# Gathering Data"
   ]
  },
  {
   "cell_type": "markdown",
   "metadata": {},
   "source": [
    "- [x] Download twitter_archive_enhanced.csv\n",
    "- [x] Download image_predictions.tsv\n",
    "- [x] Download tweet_json.txt"
   ]
  },
  {
   "cell_type": "markdown",
   "metadata": {},
   "source": [
    "## tasks\n",
    "> Download file from [link ](https://d17h27t6h515a5.cloudfront.net/topher/2017/August/59a4e958_twitter-archive-enhanced/twitter-archive-enhanced.csv) using requests\n",
    "> save the file into the root derectory using os.\n",
    ">\n",
    ">> check whether the file exists.\n",
    ">\n",
    "> Download file from [link](https://d17h27t6h515a5.cloudfront.net/topher/2017/August/599fd2ad_image-predictions/image-predictions.tsv)\n",
    ">> check whether the file exists.\n",
    "\n",
    "> Query Twitter API for each tweet's JSON data.\n",
    "\n",
    ">> 1. store each tweet's entire set of JSON data in a file called tweet_json.txt.\n",
    "\n",
    ">> 2. each tweet's JSON data should be written to its own line.\n",
    "\n",
    ">> 3. Then read this .txt file line by line into a pandas DataFrame with tweet ID, retweet count and favourite count."
   ]
  },
  {
   "cell_type": "code",
   "execution_count": 2,
   "metadata": {},
   "outputs": [
    {
     "data": {
      "text/plain": [
       "'Already exist'"
      ]
     },
     "execution_count": 2,
     "metadata": {},
     "output_type": "execute_result"
    }
   ],
   "source": [
    "def gather_data(url, file_name):\n",
    "    if os.path.exists(file_name):\n",
    "        return \"Already exist\"\n",
    "    else:\n",
    "        r = requests.get(url)\n",
    "        with open(file_name, 'wb') as file:\n",
    "            file.write(r.content)\n",
    "        return 'downloaded'\n",
    "twitter_archive_enhanced_url = 'https://d17h27t6h515a5.cloudfront.net/topher/2017/August/59a4e958_twitter-archive-enhanced/twitter-archive-enhanced.csv'\n",
    "gather_data(twitter_archive_enhanced_url, 'twitter-archive-enhanced.csv')"
   ]
  },
  {
   "cell_type": "code",
   "execution_count": 3,
   "metadata": {},
   "outputs": [
    {
     "data": {
      "text/plain": [
       "'Already exist'"
      ]
     },
     "execution_count": 3,
     "metadata": {},
     "output_type": "execute_result"
    }
   ],
   "source": [
    "image_predictions_url = 'https://d17h27t6h515a5.cloudfront.net/topher/2017/August/599fd2ad_image-predictions/image-predictions.tsv'\n",
    "gather_data(image_predictions_url, 'image_predictions.tsv')"
   ]
  },
  {
   "cell_type": "code",
   "execution_count": 4,
   "metadata": {
    "collapsed": true,
    "scrolled": true
   },
   "outputs": [],
   "source": [
    "twitter_archive_enhanced = pd.read_csv('twitter-archive-enhanced.csv')"
   ]
  },
  {
   "cell_type": "code",
   "execution_count": 5,
   "metadata": {
    "collapsed": true
   },
   "outputs": [],
   "source": [
    "image_predictions = pd.read_csv('image_predictions.tsv', delimiter='\\t')"
   ]
  },
  {
   "cell_type": "code",
   "execution_count": 6,
   "metadata": {
    "collapsed": true
   },
   "outputs": [],
   "source": [
    "tweet_id = '851953902622658560'"
   ]
  },
  {
   "cell_type": "markdown",
   "metadata": {},
   "source": [
    "### Try the API extract json"
   ]
  },
  {
   "cell_type": "markdown",
   "metadata": {},
   "source": [
    "### Count the retweet and like of every tweet id."
   ]
  },
  {
   "cell_type": "markdown",
   "metadata": {},
   "source": [
    "### store every tweet id's json as one entity in json.txt"
   ]
  },
  {
   "cell_type": "markdown",
   "metadata": {},
   "source": [
    "\n",
    ">> 1. Extract ids from tweet data file and prediction file.\n",
    "        df.id, tweepy.API.get_status\n",
    ">> 2. save the into tweet_json.txt \n",
    "        json.dump"
   ]
  },
  {
   "cell_type": "markdown",
   "metadata": {},
   "source": [
    "### test "
   ]
  },
  {
   "cell_type": "code",
   "execution_count": 7,
   "metadata": {
    "collapsed": true
   },
   "outputs": [],
   "source": [
    "# read tweet_archive_file and image_prediction file\n",
    "tweet_archive_f = pd.read_csv('twitter-archive-enhanced.csv')\n",
    "prediction_f = pd.read_csv('image_predictions.tsv', delimiter='\\t')"
   ]
  },
  {
   "cell_type": "code",
   "execution_count": 8,
   "metadata": {},
   "outputs": [
    {
     "data": {
      "text/html": [
       "<div>\n",
       "<style scoped>\n",
       "    .dataframe tbody tr th:only-of-type {\n",
       "        vertical-align: middle;\n",
       "    }\n",
       "\n",
       "    .dataframe tbody tr th {\n",
       "        vertical-align: top;\n",
       "    }\n",
       "\n",
       "    .dataframe thead th {\n",
       "        text-align: right;\n",
       "    }\n",
       "</style>\n",
       "<table border=\"1\" class=\"dataframe\">\n",
       "  <thead>\n",
       "    <tr style=\"text-align: right;\">\n",
       "      <th></th>\n",
       "      <th>tweet_id</th>\n",
       "      <th>jpg_url</th>\n",
       "      <th>img_num</th>\n",
       "      <th>p1</th>\n",
       "      <th>p1_conf</th>\n",
       "      <th>p1_dog</th>\n",
       "      <th>p2</th>\n",
       "      <th>p2_conf</th>\n",
       "      <th>p2_dog</th>\n",
       "      <th>p3</th>\n",
       "      <th>p3_conf</th>\n",
       "      <th>p3_dog</th>\n",
       "    </tr>\n",
       "  </thead>\n",
       "  <tbody>\n",
       "    <tr>\n",
       "      <th>1010</th>\n",
       "      <td>709409458133323776</td>\n",
       "      <td>https://pbs.twimg.com/media/CdhUIMSUIAA4wYK.jpg</td>\n",
       "      <td>1</td>\n",
       "      <td>Shetland_sheepdog</td>\n",
       "      <td>0.79745</td>\n",
       "      <td>True</td>\n",
       "      <td>collie</td>\n",
       "      <td>0.054055</td>\n",
       "      <td>True</td>\n",
       "      <td>keeshond</td>\n",
       "      <td>0.031673</td>\n",
       "      <td>True</td>\n",
       "    </tr>\n",
       "  </tbody>\n",
       "</table>\n",
       "</div>"
      ],
      "text/plain": [
       "                tweet_id                                          jpg_url  \\\n",
       "1010  709409458133323776  https://pbs.twimg.com/media/CdhUIMSUIAA4wYK.jpg   \n",
       "\n",
       "      img_num                 p1  p1_conf  p1_dog      p2   p2_conf  p2_dog  \\\n",
       "1010        1  Shetland_sheepdog  0.79745    True  collie  0.054055    True   \n",
       "\n",
       "            p3   p3_conf  p3_dog  \n",
       "1010  keeshond  0.031673    True  "
      ]
     },
     "execution_count": 8,
     "metadata": {},
     "output_type": "execute_result"
    }
   ],
   "source": [
    "# check if the tsv file read succefully\n",
    "prediction_f.sample()"
   ]
  },
  {
   "cell_type": "code",
   "execution_count": 9,
   "metadata": {
    "collapsed": true
   },
   "outputs": [],
   "source": [
    "# collect ids from above two tables.\n",
    "tweet_ids = pd.Series(list(tweet_archive_f.tweet_id) + list(prediction_f.tweet_id))"
   ]
  },
  {
   "cell_type": "code",
   "execution_count": 10,
   "metadata": {},
   "outputs": [
    {
     "data": {
      "text/plain": [
       "2870    676237365392908289\n",
       "351     831322785565769729\n",
       "dtype: int64"
      ]
     },
     "execution_count": 10,
     "metadata": {},
     "output_type": "execute_result"
    }
   ],
   "source": [
    "tweet_ids.sample(2)"
   ]
  },
  {
   "cell_type": "code",
   "execution_count": 11,
   "metadata": {},
   "outputs": [
    {
     "data": {
      "text/plain": [
       "4431"
      ]
     },
     "execution_count": 11,
     "metadata": {},
     "output_type": "execute_result"
    }
   ],
   "source": [
    "len(tweet_ids)"
   ]
  },
  {
   "cell_type": "markdown",
   "metadata": {},
   "source": [
    "There is 4431 ids."
   ]
  },
  {
   "cell_type": "code",
   "execution_count": 12,
   "metadata": {},
   "outputs": [
    {
     "data": {
      "text/plain": [
       "4431"
      ]
     },
     "execution_count": 12,
     "metadata": {},
     "output_type": "execute_result"
    }
   ],
   "source": [
    "tweet_ids.count()"
   ]
  },
  {
   "cell_type": "markdown",
   "metadata": {},
   "source": [
    "None of them are null"
   ]
  },
  {
   "cell_type": "code",
   "execution_count": 78,
   "metadata": {
    "collapsed": true
   },
   "outputs": [],
   "source": [
    "consumer_key = 'secret'\n",
    "consumer_secret = 'secret'\n",
    "access_token = 'secret'\n",
    "access_secret = 'secret'\n",
    "\n",
    "auth = tweepy.OAuthHandler(consumer_key, consumer_secret)\n",
    "auth.set_access_token(access_token, access_secret)\n",
    "api = tweepy.API(auth, wait_on_rate_limit=True, wait_on_rate_limit_notify=True) # Set rate limit to avoid errors.\n",
    "\n",
    "def download_tweets_json(tweetid):\n",
    "    '''Download tweet using tweet's ids json file.\n",
    "    \n",
    "    key arguments\n",
    "    tweetid -- the tweetid which you wanna download.\n",
    "    '''\n",
    "    # start_time = time.process_time()\n",
    "    #if os.path.exists('json.txt'):\n",
    "    #    return \"json.txt exists\"\n",
    "    try:\n",
    "        status = api.get_status(tweetid, tweet_mode='extended') # 获取id的所有状态信息.\n",
    "        return json.dumps(status._json) # 把status自带的json转换为json第三方包可读的json.类型是str.\n",
    "    except tweepy.TweepError as e:\n",
    "        print(tweet_id+'disappeared')\n",
    "        pass\n",
    "    # print('%d used'%(time.process_time() - start_time))\n",
    "    print('tweet ID: %s'%(tweetid)) # Print ID after required"
   ]
  },
  {
   "cell_type": "markdown",
   "metadata": {},
   "source": [
    "# Assess Data"
   ]
  },
  {
   "cell_type": "markdown",
   "metadata": {},
   "source": [
    "Assess there data sets and note at least 8 quality problems and 2 tideness problem."
   ]
  },
  {
   "cell_type": "markdown",
   "metadata": {},
   "source": [
    "1. you only want ratings(no retweets) that have images. Not all the tweets are about dogs and some are retweets.\n",
    "2. 8 quality issues and 2 tideness issues in the dataset.\n",
    "3. Merging individual pieces of data according to the rules of tidy data.\n",
    "4. Numertators are greater than the denominators.(this is normal)\n",
    "5. Do not gather the tweets beyond August 1st, 2017."
   ]
  },
  {
   "cell_type": "markdown",
   "metadata": {},
   "source": [
    "# 数据整洁性问题\n",
    "1. 数据完整性.\n",
    "2. 数据可用性.\n",
    "3. 数据合理性.\n",
    "4. 数据一致性."
   ]
  },
  {
   "cell_type": "markdown",
   "metadata": {},
   "source": [
    "## 表1: twitter_archive_enhanced"
   ]
  },
  {
   "cell_type": "code",
   "execution_count": 16,
   "metadata": {},
   "outputs": [
    {
     "name": "stdout",
     "output_type": "stream",
     "text": [
      "<class 'pandas.core.frame.DataFrame'>\n",
      "RangeIndex: 2356 entries, 0 to 2355\n",
      "Data columns (total 17 columns):\n",
      "tweet_id                      2356 non-null int64\n",
      "in_reply_to_status_id         78 non-null float64\n",
      "in_reply_to_user_id           78 non-null float64\n",
      "timestamp                     2356 non-null object\n",
      "source                        2356 non-null object\n",
      "text                          2356 non-null object\n",
      "retweeted_status_id           181 non-null float64\n",
      "retweeted_status_user_id      181 non-null float64\n",
      "retweeted_status_timestamp    181 non-null object\n",
      "expanded_urls                 2297 non-null object\n",
      "rating_numerator              2356 non-null int64\n",
      "rating_denominator            2356 non-null int64\n",
      "name                          2356 non-null object\n",
      "doggo                         2356 non-null object\n",
      "floofer                       2356 non-null object\n",
      "pupper                        2356 non-null object\n",
      "puppo                         2356 non-null object\n",
      "dtypes: float64(4), int64(3), object(10)\n",
      "memory usage: 313.0+ KB\n"
     ]
    }
   ],
   "source": [
    "twitter_archive_enhanced.info()"
   ]
  },
  {
   "cell_type": "markdown",
   "metadata": {},
   "source": [
    "### 完整性问题(变量空值问题)\n",
    "1. in_reply_to_status_id\n",
    "2. in_reply_to_user_id\n",
    "3. retweeted_stated_id\n",
    "4. retweeted_status_user_id\n",
    "5. expanded_urls\n",
    "\n",
    "### 数据可用性问题\n",
    "1. id类,name,text应该是字符串\n",
    "2. source需要把网址提取出来,iPhone,Twitter,vine,tweetdeck.\n",
    "3. 小狗种类应该是布林值.\n",
    "\n",
    "## 数据整洁性问题\n",
    "1. 每一列是一个变量.\n",
    "2. 每一行是一个样本.\n",
    "3. 每一个表是一个观察角度.\n",
    "\n",
    "### 每一列是一个变量.\n",
    "1. 转发的三列包含了两个意思, 第一个是是否转发, 第二个才是转发的具体信息, 所以应该有一列是布林值的retweet.\n",
    "2. 同理,回复列的in_reply_to的两个变量也是, id是value,而列的名字应该是变量名, 所以有一列应该是布林值的replay.\n",
    "3. 狗狗的成长阶段是value,应该作为stage的值,所以应该新建一个stage的列,把值填进去.\n",
    "\n",
    "### 每一个表是一个观察角度.\n",
    "1. 回复类的和转发类的应该是两个单独的表."
   ]
  },
  {
   "cell_type": "markdown",
   "metadata": {},
   "source": [
    "## 表2: image_predictions"
   ]
  },
  {
   "cell_type": "code",
   "execution_count": 17,
   "metadata": {},
   "outputs": [
    {
     "name": "stdout",
     "output_type": "stream",
     "text": [
      "<class 'pandas.core.frame.DataFrame'>\n",
      "RangeIndex: 2075 entries, 0 to 2074\n",
      "Data columns (total 12 columns):\n",
      "tweet_id    2075 non-null int64\n",
      "jpg_url     2075 non-null object\n",
      "img_num     2075 non-null int64\n",
      "p1          2075 non-null object\n",
      "p1_conf     2075 non-null float64\n",
      "p1_dog      2075 non-null bool\n",
      "p2          2075 non-null object\n",
      "p2_conf     2075 non-null float64\n",
      "p2_dog      2075 non-null bool\n",
      "p3          2075 non-null object\n",
      "p3_conf     2075 non-null float64\n",
      "p3_dog      2075 non-null bool\n",
      "dtypes: bool(3), float64(3), int64(2), object(4)\n",
      "memory usage: 152.1+ KB\n"
     ]
    }
   ],
   "source": [
    "image_predictions.info()"
   ]
  },
  {
   "cell_type": "markdown",
   "metadata": {},
   "source": [
    "### 质量问题\n",
    "1. tweet_id 应该是string.\n",
    "2. jpg_url 应该是string."
   ]
  },
  {
   "cell_type": "markdown",
   "metadata": {},
   "source": [
    "# 表3 json.txt"
   ]
  },
  {
   "cell_type": "markdown",
   "metadata": {},
   "source": [
    " read this .txt file line by line into a pandas DataFrame with (at minimum) tweet ID, retweet count, and favorite count. Note: do not include your Twitter API keys, secrets, and tokens in your project submission."
   ]
  },
  {
   "cell_type": "markdown",
   "metadata": {},
   "source": [
    "### BUG\n",
    "1. 我把每一个id读出来的json放在一行, 但是现在的问题是, json已经无法识别这个json文件.现在变成了一个string.\n",
    "\n",
    "思路: 重新写Twitter API的获取json文件的代码.每一行保存成json object而不是str, 或者利用json的库来实现将json转换为str."
   ]
  },
  {
   "cell_type": "code",
   "execution_count": 18,
   "metadata": {},
   "outputs": [],
   "source": [
    "keys = ['id', 'retweet_count', 'favorite_count']"
   ]
  },
  {
   "cell_type": "markdown",
   "metadata": {},
   "source": [
    "### Gather data from tweeter API\n",
    "需求: 我现在需要做的是, 写出一个函数, 输入json.txt, 输出是一个dataframe, 变量为 id, retweet_count, favourite_couint.\n",
    "\n",
    "define\n",
    "> 使用df完成所有的操作.\n",
    "\n",
    "1. 读取json.txt文件为Series.\n",
    "2. 对于每一条读取为json object.\n",
    "3. 对于每个json object提取需要的key放入字典"
   ]
  },
  {
   "cell_type": "code",
   "execution_count": 23,
   "metadata": {},
   "outputs": [],
   "source": [
    "# 读取json.txt\n",
    "json_original = pd.read_csv('json.txt', header=None)"
   ]
  },
  {
   "cell_type": "code",
   "execution_count": 28,
   "metadata": {},
   "outputs": [
    {
     "data": {
      "text/html": [
       "<div>\n",
       "<style scoped>\n",
       "    .dataframe tbody tr th:only-of-type {\n",
       "        vertical-align: middle;\n",
       "    }\n",
       "\n",
       "    .dataframe tbody tr th {\n",
       "        vertical-align: top;\n",
       "    }\n",
       "\n",
       "    .dataframe thead th {\n",
       "        text-align: right;\n",
       "    }\n",
       "</style>\n",
       "<table border=\"1\" class=\"dataframe\">\n",
       "  <thead>\n",
       "    <tr style=\"text-align: right;\">\n",
       "      <th></th>\n",
       "      <th>0</th>\n",
       "    </tr>\n",
       "  </thead>\n",
       "  <tbody>\n",
       "    <tr>\n",
       "      <th>369</th>\n",
       "      <td>{\"created_at\": \"Mon Feb 06 17:02:17 +0000 2017...</td>\n",
       "    </tr>\n",
       "    <tr>\n",
       "      <th>523</th>\n",
       "      <td>{\"created_at\": \"Thu Dec 15 17:23:04 +0000 2016...</td>\n",
       "    </tr>\n",
       "    <tr>\n",
       "      <th>1079</th>\n",
       "      <td>{\"created_at\": \"Sat Jun 04 23:31:25 +0000 2016...</td>\n",
       "    </tr>\n",
       "    <tr>\n",
       "      <th>2391</th>\n",
       "      <td>{\"created_at\": \"Tue Nov 17 02:06:42 +0000 2015...</td>\n",
       "    </tr>\n",
       "    <tr>\n",
       "      <th>614</th>\n",
       "      <td>{\"created_at\": \"Thu Nov 10 17:02:03 +0000 2016...</td>\n",
       "    </tr>\n",
       "  </tbody>\n",
       "</table>\n",
       "</div>"
      ],
      "text/plain": [
       "                                                      0\n",
       "369   {\"created_at\": \"Mon Feb 06 17:02:17 +0000 2017...\n",
       "523   {\"created_at\": \"Thu Dec 15 17:23:04 +0000 2016...\n",
       "1079  {\"created_at\": \"Sat Jun 04 23:31:25 +0000 2016...\n",
       "2391  {\"created_at\": \"Tue Nov 17 02:06:42 +0000 2015...\n",
       "614   {\"created_at\": \"Thu Nov 10 17:02:03 +0000 2016..."
      ]
     },
     "execution_count": 28,
     "metadata": {},
     "output_type": "execute_result"
    }
   ],
   "source": [
    "json_original.sample(5)"
   ]
  },
  {
   "cell_type": "code",
   "execution_count": 34,
   "metadata": {},
   "outputs": [
    {
     "data": {
      "text/plain": [
       "892420643555336193"
      ]
     },
     "execution_count": 34,
     "metadata": {},
     "output_type": "execute_result"
    }
   ],
   "source": [
    "json.loads(json_original[0][0])['id']"
   ]
  },
  {
   "cell_type": "code",
   "execution_count": 48,
   "metadata": {},
   "outputs": [
    {
     "data": {
      "text/plain": [
       "{'id': 1, 'retweet_count': 2, 'favorite_count': 3}"
      ]
     },
     "execution_count": 48,
     "metadata": {},
     "output_type": "execute_result"
    }
   ],
   "source": [
    "dict(zip(keys, [1, 2, 3]))"
   ]
  },
  {
   "cell_type": "code",
   "execution_count": 57,
   "metadata": {},
   "outputs": [],
   "source": [
    "one_row = pd.DataFrame(dict(zip(keys, [1, 2, 3])), index=[0])"
   ]
  },
  {
   "cell_type": "code",
   "execution_count": 58,
   "metadata": {},
   "outputs": [
    {
     "data": {
      "text/html": [
       "<div>\n",
       "<style scoped>\n",
       "    .dataframe tbody tr th:only-of-type {\n",
       "        vertical-align: middle;\n",
       "    }\n",
       "\n",
       "    .dataframe tbody tr th {\n",
       "        vertical-align: top;\n",
       "    }\n",
       "\n",
       "    .dataframe thead th {\n",
       "        text-align: right;\n",
       "    }\n",
       "</style>\n",
       "<table border=\"1\" class=\"dataframe\">\n",
       "  <thead>\n",
       "    <tr style=\"text-align: right;\">\n",
       "      <th></th>\n",
       "      <th>favorite_count</th>\n",
       "      <th>id</th>\n",
       "      <th>retweet_count</th>\n",
       "    </tr>\n",
       "  </thead>\n",
       "  <tbody>\n",
       "    <tr>\n",
       "      <th>0</th>\n",
       "      <td>3</td>\n",
       "      <td>1</td>\n",
       "      <td>2</td>\n",
       "    </tr>\n",
       "    <tr>\n",
       "      <th>0</th>\n",
       "      <td>3</td>\n",
       "      <td>1</td>\n",
       "      <td>2</td>\n",
       "    </tr>\n",
       "  </tbody>\n",
       "</table>\n",
       "</div>"
      ],
      "text/plain": [
       "   favorite_count  id  retweet_count\n",
       "0               3   1              2\n",
       "0               3   1              2"
      ]
     },
     "execution_count": 58,
     "metadata": {},
     "output_type": "execute_result"
    }
   ],
   "source": [
    "one_row.append(one_row)"
   ]
  },
  {
   "cell_type": "code",
   "execution_count": 61,
   "metadata": {},
   "outputs": [
    {
     "data": {
      "text/plain": [
       "[892420643555336193, 8643, 38966]"
      ]
     },
     "execution_count": 61,
     "metadata": {},
     "output_type": "execute_result"
    }
   ],
   "source": [
    "[json.loads(json_original[0][0])[key] for key in keys]"
   ]
  },
  {
   "cell_type": "code",
   "execution_count": 62,
   "metadata": {},
   "outputs": [
    {
     "data": {
      "text/html": [
       "<div>\n",
       "<style scoped>\n",
       "    .dataframe tbody tr th:only-of-type {\n",
       "        vertical-align: middle;\n",
       "    }\n",
       "\n",
       "    .dataframe tbody tr th {\n",
       "        vertical-align: top;\n",
       "    }\n",
       "\n",
       "    .dataframe thead th {\n",
       "        text-align: right;\n",
       "    }\n",
       "</style>\n",
       "<table border=\"1\" class=\"dataframe\">\n",
       "  <thead>\n",
       "    <tr style=\"text-align: right;\">\n",
       "      <th></th>\n",
       "      <th>id</th>\n",
       "      <th>retweet_count</th>\n",
       "      <th>favorite_count</th>\n",
       "    </tr>\n",
       "  </thead>\n",
       "  <tbody>\n",
       "  </tbody>\n",
       "</table>\n",
       "</div>"
      ],
      "text/plain": [
       "Empty DataFrame\n",
       "Columns: [id, retweet_count, favorite_count]\n",
       "Index: []"
      ]
     },
     "execution_count": 62,
     "metadata": {},
     "output_type": "execute_result"
    }
   ],
   "source": [
    "pd.DataFrame(columns=keys)"
   ]
  },
  {
   "cell_type": "code",
   "execution_count": 72,
   "metadata": {},
   "outputs": [
    {
     "name": "stdout",
     "output_type": "stream",
     "text": [
      "Automatic pdb calling has been turned OFF\n"
     ]
    }
   ],
   "source": [
    "%pdb"
   ]
  },
  {
   "cell_type": "code",
   "execution_count": 77,
   "metadata": {},
   "outputs": [],
   "source": [
    "def create_df_from_json(file_name, keys):\n",
    "    \"\"\"\n",
    "    返回一个拥有特定keys的dataframe\n",
    "    -----\n",
    "    参数: \n",
    "    -----\n",
    "    file_name: 字符串, 文件地址\n",
    "    keys: 需要提取的键值\n",
    "    \"\"\"\n",
    "    json_original = pd.read_csv(file_name, header=None) # 读取json文件\n",
    "    df = pd.DataFrame(columns=keys)\n",
    "    # 提取keys并作为一行dataframe\n",
    "    index = 0\n",
    "    for json_object in json_original[0]:\n",
    "        try:\n",
    "            json_dict = json.loads(json_object) # 读取成json的dictionary.\n",
    "        except TypeError:\n",
    "            print(index, \"failes\") # 有些空值的文件读取不了就算了.\n",
    "        make_dict = dict(zip(keys, [json_dict[key] for key in keys]))\n",
    "        df = df.append(pd.DataFrame(make_dict, index=[index]))\n",
    "        index += 1\n",
    "    return df"
   ]
  },
  {
   "cell_type": "code",
   "execution_count": 76,
   "metadata": {},
   "outputs": [
    {
     "name": "stdout",
     "output_type": "stream",
     "text": [
      "19 failes\n",
      "95 failes\n",
      "118 failes\n",
      "132 failes\n",
      "155 failes\n",
      "247 failes\n",
      "260 failes\n",
      "298 failes\n",
      "382 failes\n",
      "566 failes\n",
      "784 failes\n",
      "3971 failes\n",
      "4191 failes\n",
      "4220 failes\n",
      "4300 failes\n",
      "4348 failes\n",
      "4411 failes\n"
     ]
    },
    {
     "data": {
      "text/html": [
       "<div>\n",
       "<style scoped>\n",
       "    .dataframe tbody tr th:only-of-type {\n",
       "        vertical-align: middle;\n",
       "    }\n",
       "\n",
       "    .dataframe tbody tr th {\n",
       "        vertical-align: top;\n",
       "    }\n",
       "\n",
       "    .dataframe thead th {\n",
       "        text-align: right;\n",
       "    }\n",
       "</style>\n",
       "<table border=\"1\" class=\"dataframe\">\n",
       "  <thead>\n",
       "    <tr style=\"text-align: right;\">\n",
       "      <th></th>\n",
       "      <th>favorite_count</th>\n",
       "      <th>id</th>\n",
       "      <th>retweet_count</th>\n",
       "    </tr>\n",
       "  </thead>\n",
       "  <tbody>\n",
       "    <tr>\n",
       "      <th>0</th>\n",
       "      <td>38966</td>\n",
       "      <td>892420643555336193</td>\n",
       "      <td>8643</td>\n",
       "    </tr>\n",
       "    <tr>\n",
       "      <th>1</th>\n",
       "      <td>33357</td>\n",
       "      <td>892177421306343426</td>\n",
       "      <td>6351</td>\n",
       "    </tr>\n",
       "    <tr>\n",
       "      <th>2</th>\n",
       "      <td>25142</td>\n",
       "      <td>891815181378084864</td>\n",
       "      <td>4213</td>\n",
       "    </tr>\n",
       "    <tr>\n",
       "      <th>3</th>\n",
       "      <td>42309</td>\n",
       "      <td>891689557279858688</td>\n",
       "      <td>8761</td>\n",
       "    </tr>\n",
       "    <tr>\n",
       "      <th>4</th>\n",
       "      <td>40474</td>\n",
       "      <td>891327558926688256</td>\n",
       "      <td>9522</td>\n",
       "    </tr>\n",
       "    <tr>\n",
       "      <th>5</th>\n",
       "      <td>20294</td>\n",
       "      <td>891087950875897856</td>\n",
       "      <td>3155</td>\n",
       "    </tr>\n",
       "    <tr>\n",
       "      <th>6</th>\n",
       "      <td>11901</td>\n",
       "      <td>890971913173991426</td>\n",
       "      <td>2105</td>\n",
       "    </tr>\n",
       "    <tr>\n",
       "      <th>7</th>\n",
       "      <td>65829</td>\n",
       "      <td>890729181411237888</td>\n",
       "      <td>19159</td>\n",
       "    </tr>\n",
       "    <tr>\n",
       "      <th>8</th>\n",
       "      <td>27879</td>\n",
       "      <td>890609185150312448</td>\n",
       "      <td>4321</td>\n",
       "    </tr>\n",
       "    <tr>\n",
       "      <th>9</th>\n",
       "      <td>32073</td>\n",
       "      <td>890240255349198849</td>\n",
       "      <td>7525</td>\n",
       "    </tr>\n",
       "    <tr>\n",
       "      <th>10</th>\n",
       "      <td>30778</td>\n",
       "      <td>890006608113172480</td>\n",
       "      <td>7439</td>\n",
       "    </tr>\n",
       "    <tr>\n",
       "      <th>11</th>\n",
       "      <td>27908</td>\n",
       "      <td>889880896479866881</td>\n",
       "      <td>5030</td>\n",
       "    </tr>\n",
       "    <tr>\n",
       "      <th>12</th>\n",
       "      <td>48275</td>\n",
       "      <td>889665388333682689</td>\n",
       "      <td>10193</td>\n",
       "    </tr>\n",
       "    <tr>\n",
       "      <th>13</th>\n",
       "      <td>27290</td>\n",
       "      <td>889638837579907072</td>\n",
       "      <td>4600</td>\n",
       "    </tr>\n",
       "    <tr>\n",
       "      <th>14</th>\n",
       "      <td>15150</td>\n",
       "      <td>889531135344209921</td>\n",
       "      <td>2262</td>\n",
       "    </tr>\n",
       "    <tr>\n",
       "      <th>15</th>\n",
       "      <td>25395</td>\n",
       "      <td>889278841981685760</td>\n",
       "      <td>5516</td>\n",
       "    </tr>\n",
       "    <tr>\n",
       "      <th>16</th>\n",
       "      <td>29205</td>\n",
       "      <td>888917238123831296</td>\n",
       "      <td>4563</td>\n",
       "    </tr>\n",
       "    <tr>\n",
       "      <th>17</th>\n",
       "      <td>25701</td>\n",
       "      <td>888804989199671297</td>\n",
       "      <td>4413</td>\n",
       "    </tr>\n",
       "    <tr>\n",
       "      <th>18</th>\n",
       "      <td>20013</td>\n",
       "      <td>888554962724278272</td>\n",
       "      <td>3643</td>\n",
       "    </tr>\n",
       "    <tr>\n",
       "      <th>19</th>\n",
       "      <td>20013</td>\n",
       "      <td>888554962724278272</td>\n",
       "      <td>3643</td>\n",
       "    </tr>\n",
       "    <tr>\n",
       "      <th>20</th>\n",
       "      <td>21853</td>\n",
       "      <td>888078434458587136</td>\n",
       "      <td>3548</td>\n",
       "    </tr>\n",
       "    <tr>\n",
       "      <th>21</th>\n",
       "      <td>30315</td>\n",
       "      <td>887705289381826560</td>\n",
       "      <td>5464</td>\n",
       "    </tr>\n",
       "    <tr>\n",
       "      <th>22</th>\n",
       "      <td>46431</td>\n",
       "      <td>887517139158093824</td>\n",
       "      <td>11811</td>\n",
       "    </tr>\n",
       "    <tr>\n",
       "      <th>23</th>\n",
       "      <td>69410</td>\n",
       "      <td>887473957103951883</td>\n",
       "      <td>18470</td>\n",
       "    </tr>\n",
       "    <tr>\n",
       "      <th>24</th>\n",
       "      <td>33825</td>\n",
       "      <td>887343217045368832</td>\n",
       "      <td>10537</td>\n",
       "    </tr>\n",
       "    <tr>\n",
       "      <th>25</th>\n",
       "      <td>30677</td>\n",
       "      <td>887101392804085760</td>\n",
       "      <td>6040</td>\n",
       "    </tr>\n",
       "    <tr>\n",
       "      <th>26</th>\n",
       "      <td>35310</td>\n",
       "      <td>886983233522544640</td>\n",
       "      <td>7868</td>\n",
       "    </tr>\n",
       "    <tr>\n",
       "      <th>27</th>\n",
       "      <td>12125</td>\n",
       "      <td>886736880519319552</td>\n",
       "      <td>3341</td>\n",
       "    </tr>\n",
       "    <tr>\n",
       "      <th>28</th>\n",
       "      <td>22530</td>\n",
       "      <td>886680336477933568</td>\n",
       "      <td>4531</td>\n",
       "    </tr>\n",
       "    <tr>\n",
       "      <th>29</th>\n",
       "      <td>21208</td>\n",
       "      <td>886366144734445568</td>\n",
       "      <td>3226</td>\n",
       "    </tr>\n",
       "    <tr>\n",
       "      <th>...</th>\n",
       "      <td>...</td>\n",
       "      <td>...</td>\n",
       "      <td>...</td>\n",
       "    </tr>\n",
       "    <tr>\n",
       "      <th>4401</th>\n",
       "      <td>21209</td>\n",
       "      <td>886366144734445568</td>\n",
       "      <td>3226</td>\n",
       "    </tr>\n",
       "    <tr>\n",
       "      <th>4402</th>\n",
       "      <td>22529</td>\n",
       "      <td>886680336477933568</td>\n",
       "      <td>4531</td>\n",
       "    </tr>\n",
       "    <tr>\n",
       "      <th>4403</th>\n",
       "      <td>12125</td>\n",
       "      <td>886736880519319552</td>\n",
       "      <td>3341</td>\n",
       "    </tr>\n",
       "    <tr>\n",
       "      <th>4404</th>\n",
       "      <td>35310</td>\n",
       "      <td>886983233522544640</td>\n",
       "      <td>7868</td>\n",
       "    </tr>\n",
       "    <tr>\n",
       "      <th>4405</th>\n",
       "      <td>30677</td>\n",
       "      <td>887101392804085760</td>\n",
       "      <td>6040</td>\n",
       "    </tr>\n",
       "    <tr>\n",
       "      <th>4406</th>\n",
       "      <td>33825</td>\n",
       "      <td>887343217045368832</td>\n",
       "      <td>10537</td>\n",
       "    </tr>\n",
       "    <tr>\n",
       "      <th>4407</th>\n",
       "      <td>69410</td>\n",
       "      <td>887473957103951883</td>\n",
       "      <td>18470</td>\n",
       "    </tr>\n",
       "    <tr>\n",
       "      <th>4408</th>\n",
       "      <td>46431</td>\n",
       "      <td>887517139158093824</td>\n",
       "      <td>11811</td>\n",
       "    </tr>\n",
       "    <tr>\n",
       "      <th>4409</th>\n",
       "      <td>30316</td>\n",
       "      <td>887705289381826560</td>\n",
       "      <td>5464</td>\n",
       "    </tr>\n",
       "    <tr>\n",
       "      <th>4410</th>\n",
       "      <td>21853</td>\n",
       "      <td>888078434458587136</td>\n",
       "      <td>3548</td>\n",
       "    </tr>\n",
       "    <tr>\n",
       "      <th>4411</th>\n",
       "      <td>21853</td>\n",
       "      <td>888078434458587136</td>\n",
       "      <td>3548</td>\n",
       "    </tr>\n",
       "    <tr>\n",
       "      <th>4412</th>\n",
       "      <td>20013</td>\n",
       "      <td>888554962724278272</td>\n",
       "      <td>3643</td>\n",
       "    </tr>\n",
       "    <tr>\n",
       "      <th>4413</th>\n",
       "      <td>25701</td>\n",
       "      <td>888804989199671297</td>\n",
       "      <td>4413</td>\n",
       "    </tr>\n",
       "    <tr>\n",
       "      <th>4414</th>\n",
       "      <td>29204</td>\n",
       "      <td>888917238123831296</td>\n",
       "      <td>4563</td>\n",
       "    </tr>\n",
       "    <tr>\n",
       "      <th>4415</th>\n",
       "      <td>25395</td>\n",
       "      <td>889278841981685760</td>\n",
       "      <td>5516</td>\n",
       "    </tr>\n",
       "    <tr>\n",
       "      <th>4416</th>\n",
       "      <td>15149</td>\n",
       "      <td>889531135344209921</td>\n",
       "      <td>2262</td>\n",
       "    </tr>\n",
       "    <tr>\n",
       "      <th>4417</th>\n",
       "      <td>27290</td>\n",
       "      <td>889638837579907072</td>\n",
       "      <td>4600</td>\n",
       "    </tr>\n",
       "    <tr>\n",
       "      <th>4418</th>\n",
       "      <td>48275</td>\n",
       "      <td>889665388333682689</td>\n",
       "      <td>10193</td>\n",
       "    </tr>\n",
       "    <tr>\n",
       "      <th>4419</th>\n",
       "      <td>27908</td>\n",
       "      <td>889880896479866881</td>\n",
       "      <td>5030</td>\n",
       "    </tr>\n",
       "    <tr>\n",
       "      <th>4420</th>\n",
       "      <td>30778</td>\n",
       "      <td>890006608113172480</td>\n",
       "      <td>7439</td>\n",
       "    </tr>\n",
       "    <tr>\n",
       "      <th>4421</th>\n",
       "      <td>32073</td>\n",
       "      <td>890240255349198849</td>\n",
       "      <td>7525</td>\n",
       "    </tr>\n",
       "    <tr>\n",
       "      <th>4422</th>\n",
       "      <td>27879</td>\n",
       "      <td>890609185150312448</td>\n",
       "      <td>4321</td>\n",
       "    </tr>\n",
       "    <tr>\n",
       "      <th>4423</th>\n",
       "      <td>65832</td>\n",
       "      <td>890729181411237888</td>\n",
       "      <td>19159</td>\n",
       "    </tr>\n",
       "    <tr>\n",
       "      <th>4424</th>\n",
       "      <td>11901</td>\n",
       "      <td>890971913173991426</td>\n",
       "      <td>2105</td>\n",
       "    </tr>\n",
       "    <tr>\n",
       "      <th>4425</th>\n",
       "      <td>20294</td>\n",
       "      <td>891087950875897856</td>\n",
       "      <td>3155</td>\n",
       "    </tr>\n",
       "    <tr>\n",
       "      <th>4426</th>\n",
       "      <td>40474</td>\n",
       "      <td>891327558926688256</td>\n",
       "      <td>9522</td>\n",
       "    </tr>\n",
       "    <tr>\n",
       "      <th>4427</th>\n",
       "      <td>42308</td>\n",
       "      <td>891689557279858688</td>\n",
       "      <td>8761</td>\n",
       "    </tr>\n",
       "    <tr>\n",
       "      <th>4428</th>\n",
       "      <td>25142</td>\n",
       "      <td>891815181378084864</td>\n",
       "      <td>4213</td>\n",
       "    </tr>\n",
       "    <tr>\n",
       "      <th>4429</th>\n",
       "      <td>33357</td>\n",
       "      <td>892177421306343426</td>\n",
       "      <td>6351</td>\n",
       "    </tr>\n",
       "    <tr>\n",
       "      <th>4430</th>\n",
       "      <td>38966</td>\n",
       "      <td>892420643555336193</td>\n",
       "      <td>8643</td>\n",
       "    </tr>\n",
       "  </tbody>\n",
       "</table>\n",
       "<p>4431 rows × 3 columns</p>\n",
       "</div>"
      ],
      "text/plain": [
       "     favorite_count                  id retweet_count\n",
       "0             38966  892420643555336193          8643\n",
       "1             33357  892177421306343426          6351\n",
       "2             25142  891815181378084864          4213\n",
       "3             42309  891689557279858688          8761\n",
       "4             40474  891327558926688256          9522\n",
       "5             20294  891087950875897856          3155\n",
       "6             11901  890971913173991426          2105\n",
       "7             65829  890729181411237888         19159\n",
       "8             27879  890609185150312448          4321\n",
       "9             32073  890240255349198849          7525\n",
       "10            30778  890006608113172480          7439\n",
       "11            27908  889880896479866881          5030\n",
       "12            48275  889665388333682689         10193\n",
       "13            27290  889638837579907072          4600\n",
       "14            15150  889531135344209921          2262\n",
       "15            25395  889278841981685760          5516\n",
       "16            29205  888917238123831296          4563\n",
       "17            25701  888804989199671297          4413\n",
       "18            20013  888554962724278272          3643\n",
       "19            20013  888554962724278272          3643\n",
       "20            21853  888078434458587136          3548\n",
       "21            30315  887705289381826560          5464\n",
       "22            46431  887517139158093824         11811\n",
       "23            69410  887473957103951883         18470\n",
       "24            33825  887343217045368832         10537\n",
       "25            30677  887101392804085760          6040\n",
       "26            35310  886983233522544640          7868\n",
       "27            12125  886736880519319552          3341\n",
       "28            22530  886680336477933568          4531\n",
       "29            21208  886366144734445568          3226\n",
       "...             ...                 ...           ...\n",
       "4401          21209  886366144734445568          3226\n",
       "4402          22529  886680336477933568          4531\n",
       "4403          12125  886736880519319552          3341\n",
       "4404          35310  886983233522544640          7868\n",
       "4405          30677  887101392804085760          6040\n",
       "4406          33825  887343217045368832         10537\n",
       "4407          69410  887473957103951883         18470\n",
       "4408          46431  887517139158093824         11811\n",
       "4409          30316  887705289381826560          5464\n",
       "4410          21853  888078434458587136          3548\n",
       "4411          21853  888078434458587136          3548\n",
       "4412          20013  888554962724278272          3643\n",
       "4413          25701  888804989199671297          4413\n",
       "4414          29204  888917238123831296          4563\n",
       "4415          25395  889278841981685760          5516\n",
       "4416          15149  889531135344209921          2262\n",
       "4417          27290  889638837579907072          4600\n",
       "4418          48275  889665388333682689         10193\n",
       "4419          27908  889880896479866881          5030\n",
       "4420          30778  890006608113172480          7439\n",
       "4421          32073  890240255349198849          7525\n",
       "4422          27879  890609185150312448          4321\n",
       "4423          65832  890729181411237888         19159\n",
       "4424          11901  890971913173991426          2105\n",
       "4425          20294  891087950875897856          3155\n",
       "4426          40474  891327558926688256          9522\n",
       "4427          42308  891689557279858688          8761\n",
       "4428          25142  891815181378084864          4213\n",
       "4429          33357  892177421306343426          6351\n",
       "4430          38966  892420643555336193          8643\n",
       "\n",
       "[4431 rows x 3 columns]"
      ]
     },
     "execution_count": 76,
     "metadata": {},
     "output_type": "execute_result"
    }
   ],
   "source": [
    "create_df_from_json('json.txt', keys)"
   ]
  },
  {
   "cell_type": "code",
   "execution_count": null,
   "metadata": {},
   "outputs": [],
   "source": []
  }
 ],
 "metadata": {
  "kernelspec": {
   "display_name": "Python [conda env:wrangle]",
   "language": "python",
   "name": "conda-env-wrangle-py"
  },
  "language_info": {
   "codemirror_mode": {
    "name": "ipython",
    "version": 3
   },
   "file_extension": ".py",
   "mimetype": "text/x-python",
   "name": "python",
   "nbconvert_exporter": "python",
   "pygments_lexer": "ipython3",
   "version": "3.6.5"
  }
 },
 "nbformat": 4,
 "nbformat_minor": 2
}
