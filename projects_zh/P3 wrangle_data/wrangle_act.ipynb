{
 "cells": [
  {
   "cell_type": "code",
   "execution_count": 1,
   "metadata": {
    "collapsed": true
   },
   "outputs": [],
   "source": [
    "import numpy as np\n",
    "import pandas as pd\n",
    "import tweepy\n",
    "%matplotlib inline\n",
    "from matplotlib import pyplot as plt\n",
    "import requests\n",
    "import os \n",
    "import timeit\n",
    "import time\n",
    "import json"
   ]
  },
  {
   "cell_type": "markdown",
   "metadata": {},
   "source": [
    "# Gathering Data"
   ]
  },
  {
   "cell_type": "markdown",
   "metadata": {},
   "source": [
    "- [x] Download twitter_archive_enhanced.csv\n",
    "- [x] Download image_predictions.tsv\n",
    "- [x] Download tweet_json.txt"
   ]
  },
  {
   "cell_type": "markdown",
   "metadata": {},
   "source": [
    "## tasks\n",
    "> Download file from [link ](https://d17h27t6h515a5.cloudfront.net/topher/2017/August/59a4e958_twitter-archive-enhanced/twitter-archive-enhanced.csv) using requests\n",
    "> save the file into the root derectory using os.\n",
    ">\n",
    ">> check whether the file exists.\n",
    ">\n",
    "> Download file from [link](https://d17h27t6h515a5.cloudfront.net/topher/2017/August/599fd2ad_image-predictions/image-predictions.tsv)\n",
    ">> check whether the file exists.\n",
    "\n",
    "> Query Twitter API for each tweet's JSON data.\n",
    "\n",
    ">> 1. store each tweet's entire set of JSON data in a file called tweet_json.txt.\n",
    "\n",
    ">> 2. each tweet's JSON data should be written to its own line.\n",
    "\n",
    ">> 3. Then read this .txt file line by line into a pandas DataFrame with tweet ID, retweet count and favourite count."
   ]
  },
  {
   "cell_type": "code",
   "execution_count": 2,
   "metadata": {},
   "outputs": [
    {
     "data": {
      "text/plain": [
       "'Already exist'"
      ]
     },
     "execution_count": 2,
     "metadata": {},
     "output_type": "execute_result"
    }
   ],
   "source": [
    "def gather_data(url, file_name):\n",
    "    if os.path.exists(file_name):\n",
    "        return \"Already exist\"\n",
    "    else:\n",
    "        r = requests.get(url)\n",
    "        with open(file_name, 'wb') as file:\n",
    "            file.write(r.content)\n",
    "        return 'downloaded'\n",
    "twitter_archive_enhanced_url = 'https://d17h27t6h515a5.cloudfront.net/topher/2017/August/59a4e958_twitter-archive-enhanced/twitter-archive-enhanced.csv'\n",
    "gather_data(twitter_archive_enhanced_url, 'twitter-archive-enhanced.csv')"
   ]
  },
  {
   "cell_type": "code",
   "execution_count": 3,
   "metadata": {},
   "outputs": [
    {
     "data": {
      "text/plain": [
       "'Already exist'"
      ]
     },
     "execution_count": 3,
     "metadata": {},
     "output_type": "execute_result"
    }
   ],
   "source": [
    "image_predictions_url = 'https://d17h27t6h515a5.cloudfront.net/topher/2017/August/599fd2ad_image-predictions/image-predictions.tsv'\n",
    "gather_data(image_predictions_url, 'image_predictions.tsv')"
   ]
  },
  {
   "cell_type": "code",
   "execution_count": 4,
   "metadata": {
    "collapsed": true,
    "scrolled": true
   },
   "outputs": [],
   "source": [
    "twitter_archive_enhanced = pd.read_csv('twitter-archive-enhanced.csv')"
   ]
  },
  {
   "cell_type": "code",
   "execution_count": 5,
   "metadata": {
    "collapsed": true
   },
   "outputs": [],
   "source": [
    "image_predictions = pd.read_csv('image_predictions.tsv', delimiter='\\t')"
   ]
  },
  {
   "cell_type": "code",
   "execution_count": 6,
   "metadata": {
    "collapsed": true
   },
   "outputs": [],
   "source": [
    "tweet_id = '851953902622658560'"
   ]
  },
  {
   "cell_type": "markdown",
   "metadata": {},
   "source": [
    "### Try the API extract json"
   ]
  },
  {
   "cell_type": "markdown",
   "metadata": {},
   "source": [
    "### Count the retweet and like of every tweet id."
   ]
  },
  {
   "cell_type": "markdown",
   "metadata": {},
   "source": [
    "### store every tweet id's json as one entity in json.txt"
   ]
  },
  {
   "cell_type": "markdown",
   "metadata": {},
   "source": [
    "\n",
    ">> 1. Extract ids from tweet data file and prediction file.\n",
    "        df.id, tweepy.API.get_status\n",
    ">> 2. save the into tweet_json.txt \n",
    "        json.dump"
   ]
  },
  {
   "cell_type": "markdown",
   "metadata": {},
   "source": [
    "### test "
   ]
  },
  {
   "cell_type": "code",
   "execution_count": 7,
   "metadata": {
    "collapsed": true
   },
   "outputs": [],
   "source": [
    "# read tweet_archive_file and image_prediction file\n",
    "tweet_archive_f = pd.read_csv('twitter-archive-enhanced.csv')\n",
    "prediction_f = pd.read_csv('image_predictions.tsv', delimiter='\\t')"
   ]
  },
  {
   "cell_type": "code",
   "execution_count": 8,
   "metadata": {},
   "outputs": [
    {
     "data": {
      "text/html": [
       "<div>\n",
       "<style scoped>\n",
       "    .dataframe tbody tr th:only-of-type {\n",
       "        vertical-align: middle;\n",
       "    }\n",
       "\n",
       "    .dataframe tbody tr th {\n",
       "        vertical-align: top;\n",
       "    }\n",
       "\n",
       "    .dataframe thead th {\n",
       "        text-align: right;\n",
       "    }\n",
       "</style>\n",
       "<table border=\"1\" class=\"dataframe\">\n",
       "  <thead>\n",
       "    <tr style=\"text-align: right;\">\n",
       "      <th></th>\n",
       "      <th>tweet_id</th>\n",
       "      <th>jpg_url</th>\n",
       "      <th>img_num</th>\n",
       "      <th>p1</th>\n",
       "      <th>p1_conf</th>\n",
       "      <th>p1_dog</th>\n",
       "      <th>p2</th>\n",
       "      <th>p2_conf</th>\n",
       "      <th>p2_dog</th>\n",
       "      <th>p3</th>\n",
       "      <th>p3_conf</th>\n",
       "      <th>p3_dog</th>\n",
       "    </tr>\n",
       "  </thead>\n",
       "  <tbody>\n",
       "    <tr>\n",
       "      <th>1345</th>\n",
       "      <td>759159934323924993</td>\n",
       "      <td>https://pbs.twimg.com/media/CU1zsMSUAAAS0qW.jpg</td>\n",
       "      <td>1</td>\n",
       "      <td>Irish_terrier</td>\n",
       "      <td>0.254856</td>\n",
       "      <td>True</td>\n",
       "      <td>briard</td>\n",
       "      <td>0.227716</td>\n",
       "      <td>True</td>\n",
       "      <td>soft-coated_wheaten_terrier</td>\n",
       "      <td>0.223263</td>\n",
       "      <td>True</td>\n",
       "    </tr>\n",
       "  </tbody>\n",
       "</table>\n",
       "</div>"
      ],
      "text/plain": [
       "                tweet_id                                          jpg_url  \\\n",
       "1345  759159934323924993  https://pbs.twimg.com/media/CU1zsMSUAAAS0qW.jpg   \n",
       "\n",
       "      img_num             p1   p1_conf  p1_dog      p2   p2_conf  p2_dog  \\\n",
       "1345        1  Irish_terrier  0.254856    True  briard  0.227716    True   \n",
       "\n",
       "                               p3   p3_conf  p3_dog  \n",
       "1345  soft-coated_wheaten_terrier  0.223263    True  "
      ]
     },
     "execution_count": 8,
     "metadata": {},
     "output_type": "execute_result"
    }
   ],
   "source": [
    "# check if the tsv file read succefully\n",
    "prediction_f.sample()"
   ]
  },
  {
   "cell_type": "code",
   "execution_count": 9,
   "metadata": {
    "collapsed": true
   },
   "outputs": [],
   "source": [
    "# collect ids from above two tables.\n",
    "tweet_ids = pd.Series(list(tweet_archive_f.tweet_id) + list(prediction_f.tweet_id))"
   ]
  },
  {
   "cell_type": "code",
   "execution_count": 10,
   "metadata": {},
   "outputs": [
    {
     "data": {
      "text/plain": [
       "4287    859074603037188101\n",
       "75      878281511006478336\n",
       "dtype: int64"
      ]
     },
     "execution_count": 10,
     "metadata": {},
     "output_type": "execute_result"
    }
   ],
   "source": [
    "tweet_ids.sample(2)"
   ]
  },
  {
   "cell_type": "code",
   "execution_count": 11,
   "metadata": {},
   "outputs": [
    {
     "data": {
      "text/plain": [
       "4431"
      ]
     },
     "execution_count": 11,
     "metadata": {},
     "output_type": "execute_result"
    }
   ],
   "source": [
    "len(tweet_ids)"
   ]
  },
  {
   "cell_type": "markdown",
   "metadata": {},
   "source": [
    "There is 4431 ids."
   ]
  },
  {
   "cell_type": "code",
   "execution_count": 12,
   "metadata": {},
   "outputs": [
    {
     "data": {
      "text/plain": [
       "4431"
      ]
     },
     "execution_count": 12,
     "metadata": {},
     "output_type": "execute_result"
    }
   ],
   "source": [
    "tweet_ids.count()"
   ]
  },
  {
   "cell_type": "markdown",
   "metadata": {},
   "source": [
    "None of them are null"
   ]
  },
  {
   "cell_type": "code",
   "execution_count": 13,
   "metadata": {
    "collapsed": true
   },
   "outputs": [],
   "source": [
    "consumer_key = 'secret'\n",
    "consumer_secret = 'secret'\n",
    "access_token = 'secret'\n",
    "access_secret = 'secret'\n",
    "\n",
    "auth = tweepy.OAuthHandler(consumer_key, consumer_secret)\n",
    "auth.set_access_token(access_token, access_secret)\n",
    "api = tweepy.API(auth, wait_on_rate_limit=True, wait_on_rate_limit_notify=True) # Set rate limit to avoid errors.\n",
    "\n",
    "def download_tweets_json(tweetid):\n",
    "    '''Download tweet using tweet's ids json file.\n",
    "    \n",
    "    key arguments\n",
    "    tweetid -- the tweetid which you wanna download.\n",
    "    '''\n",
    "    # start_time = time.process_time()\n",
    "    #if os.path.exists('json.txt'):\n",
    "    #    return \"json.txt exists\"\n",
    "    try:\n",
    "        status = api.get_status(tweetid, tweet_mode='extended') # 获取id的所有状态信息.\n",
    "        return json.dumps(status._json) # 把status自带的json转换为json第三方包可读的json.类型是str.\n",
    "    except tweepy.TweepError as e:\n",
    "        print(tweet_id+'disappeared')\n",
    "        pass\n",
    "    # print('%d used'%(time.process_time() - start_time))\n",
    "    print('tweet ID: %s'%(tweetid)) # Print ID after required"
   ]
  },
  {
   "cell_type": "markdown",
   "metadata": {},
   "source": [
    "# Assess Data"
   ]
  },
  {
   "cell_type": "markdown",
   "metadata": {},
   "source": [
    "Assess there data sets and note at least 8 quality problems and 2 tideness problem."
   ]
  },
  {
   "cell_type": "markdown",
   "metadata": {},
   "source": [
    "1. you only want ratings(no retweets) that have images. Not all the tweets are about dogs and some are retweets.\n",
    "2. 8 quality issues and 2 tideness issues in the dataset.\n",
    "3. Merging individual pieces of data according to the rules of tidy data.\n",
    "4. Numertators are greater than the denominators.(this is normal)\n",
    "5. Do not gather the tweets beyond August 1st, 2017."
   ]
  },
  {
   "cell_type": "markdown",
   "metadata": {},
   "source": [
    "# 数据整洁性问题\n",
    "1. 数据完整性.\n",
    "2. 数据可用性.\n",
    "3. 数据合理性.\n",
    "4. 数据一致性."
   ]
  },
  {
   "cell_type": "markdown",
   "metadata": {},
   "source": [
    "## 表1: twitter_archive_enhanced"
   ]
  },
  {
   "cell_type": "code",
   "execution_count": 14,
   "metadata": {},
   "outputs": [
    {
     "name": "stdout",
     "output_type": "stream",
     "text": [
      "<class 'pandas.core.frame.DataFrame'>\n",
      "RangeIndex: 2356 entries, 0 to 2355\n",
      "Data columns (total 17 columns):\n",
      "tweet_id                      2356 non-null int64\n",
      "in_reply_to_status_id         78 non-null float64\n",
      "in_reply_to_user_id           78 non-null float64\n",
      "timestamp                     2356 non-null object\n",
      "source                        2356 non-null object\n",
      "text                          2356 non-null object\n",
      "retweeted_status_id           181 non-null float64\n",
      "retweeted_status_user_id      181 non-null float64\n",
      "retweeted_status_timestamp    181 non-null object\n",
      "expanded_urls                 2297 non-null object\n",
      "rating_numerator              2356 non-null int64\n",
      "rating_denominator            2356 non-null int64\n",
      "name                          2356 non-null object\n",
      "doggo                         2356 non-null object\n",
      "floofer                       2356 non-null object\n",
      "pupper                        2356 non-null object\n",
      "puppo                         2356 non-null object\n",
      "dtypes: float64(4), int64(3), object(10)\n",
      "memory usage: 313.0+ KB\n"
     ]
    }
   ],
   "source": [
    "twitter_archive_enhanced.info()"
   ]
  },
  {
   "cell_type": "markdown",
   "metadata": {},
   "source": [
    "### 完整性问题(变量空值问题)\n",
    "1. in_reply_to_status_id\n",
    "2. in_reply_to_user_id\n",
    "3. retweeted_stated_id\n",
    "4. retweeted_status_user_id\n",
    "5. expanded_urls\n",
    "\n",
    "### 数据可用性问题\n",
    "1. id类,name,text应该是字符串\n",
    "2. source需要把网址提取出来,iPhone,Twitter,vine,tweetdeck.\n",
    "3. 小狗种类应该是布林值.\n",
    "\n",
    "## 数据整洁性问题\n",
    "1. 每一列是一个变量.\n",
    "2. 每一行是一个样本.\n",
    "3. 每一个表是一个观察角度.\n",
    "\n",
    "### 每一列是一个变量.\n",
    "1. 转发的三列包含了两个意思, 第一个是是否转发, 第二个才是转发的具体信息, 所以应该有一列是布林值的retweet.\n",
    "2. 同理,回复列的in_reply_to的两个变量也是, id是value,而列的名字应该是变量名, 所以有一列应该是布林值的replay.\n",
    "3. 狗狗的成长阶段是value,应该作为stage的值,所以应该新建一个stage的列,把值填进去.\n",
    "\n",
    "### 每一个表是一个观察角度.\n",
    "1. 回复类的和转发类的应该是两个单独的表."
   ]
  },
  {
   "cell_type": "markdown",
   "metadata": {},
   "source": [
    "## 表2: image_predictions"
   ]
  },
  {
   "cell_type": "code",
   "execution_count": 15,
   "metadata": {},
   "outputs": [
    {
     "name": "stdout",
     "output_type": "stream",
     "text": [
      "<class 'pandas.core.frame.DataFrame'>\n",
      "RangeIndex: 2075 entries, 0 to 2074\n",
      "Data columns (total 12 columns):\n",
      "tweet_id    2075 non-null int64\n",
      "jpg_url     2075 non-null object\n",
      "img_num     2075 non-null int64\n",
      "p1          2075 non-null object\n",
      "p1_conf     2075 non-null float64\n",
      "p1_dog      2075 non-null bool\n",
      "p2          2075 non-null object\n",
      "p2_conf     2075 non-null float64\n",
      "p2_dog      2075 non-null bool\n",
      "p3          2075 non-null object\n",
      "p3_conf     2075 non-null float64\n",
      "p3_dog      2075 non-null bool\n",
      "dtypes: bool(3), float64(3), int64(2), object(4)\n",
      "memory usage: 152.1+ KB\n"
     ]
    }
   ],
   "source": [
    "image_predictions.info()"
   ]
  },
  {
   "cell_type": "markdown",
   "metadata": {},
   "source": [
    "### 质量问题\n",
    "1. tweet_id 应该是string.\n",
    "2. jpg_url 应该是string."
   ]
  },
  {
   "cell_type": "markdown",
   "metadata": {},
   "source": [
    "# 表3 json.txt"
   ]
  },
  {
   "cell_type": "markdown",
   "metadata": {},
   "source": [
    " read this .txt file line by line into a pandas DataFrame with (at minimum) tweet ID, retweet count, and favorite count. Note: do not include your Twitter API keys, secrets, and tokens in your project submission."
   ]
  },
  {
   "cell_type": "markdown",
   "metadata": {},
   "source": [
    "### BUG\n",
    "1. 我把每一个id读出来的json放在一行, 但是现在的问题是, json已经无法识别这个json文件.现在变成了一个string.\n",
    "\n",
    "思路: 重新写Twitter API的获取json文件的代码.每一行保存成json object而不是str, 或者利用json的库来实现将json转换为str."
   ]
  },
  {
   "cell_type": "code",
   "execution_count": 16,
   "metadata": {},
   "outputs": [],
   "source": [
    "keys = ['id', 'retweet_count', 'favorite_count']"
   ]
  },
  {
   "cell_type": "markdown",
   "metadata": {},
   "source": [
    "### Gather data from tweeter API\n",
    "需求: 我现在需要做的是, 写出一个函数, 输入json.txt, 输出是一个dataframe, 变量为 id, retweet_count, favourite_couint.\n",
    "\n",
    "define\n",
    "> 使用df完成所有的操作.\n",
    "\n",
    "1. 读取json.txt文件为Series.\n",
    "2. 对于每一条读取为json object.\n",
    "3. 对于每个json object提取需要的key放入字典"
   ]
  },
  {
   "cell_type": "code",
   "execution_count": 17,
   "metadata": {},
   "outputs": [
    {
     "data": {
      "text/html": [
       "<div>\n",
       "<style scoped>\n",
       "    .dataframe tbody tr th:only-of-type {\n",
       "        vertical-align: middle;\n",
       "    }\n",
       "\n",
       "    .dataframe tbody tr th {\n",
       "        vertical-align: top;\n",
       "    }\n",
       "\n",
       "    .dataframe thead th {\n",
       "        text-align: right;\n",
       "    }\n",
       "</style>\n",
       "<table border=\"1\" class=\"dataframe\">\n",
       "  <thead>\n",
       "    <tr style=\"text-align: right;\">\n",
       "      <th></th>\n",
       "      <th>id</th>\n",
       "      <th>retweet_count</th>\n",
       "      <th>favorite_count</th>\n",
       "    </tr>\n",
       "  </thead>\n",
       "  <tbody>\n",
       "  </tbody>\n",
       "</table>\n",
       "</div>"
      ],
      "text/plain": [
       "Empty DataFrame\n",
       "Columns: [id, retweet_count, favorite_count]\n",
       "Index: []"
      ]
     },
     "execution_count": 17,
     "metadata": {},
     "output_type": "execute_result"
    }
   ],
   "source": [
    "# 尝试步骤\n",
    "json_original = pd.read_csv('json.txt', header=None)\n",
    "\n",
    "json_original.sample(5)\n",
    "\n",
    "json.loads(json_original[0][0])['id']\n",
    "\n",
    "dict(zip(keys, [1, 2, 3]))\n",
    "\n",
    "one_row = pd.DataFrame(dict(zip(keys, [1, 2, 3])), index=[0])\n",
    "\n",
    "one_row.append(one_row)\n",
    "\n",
    "[json.loads(json_original[0][0])[key] for key in keys]\n",
    "\n",
    "pd.DataFrame(columns=keys)"
   ]
  },
  {
   "cell_type": "markdown",
   "metadata": {},
   "source": [
    "思路:\n",
    "1. 读取文件.\n",
    "2. 用json.loads把每一行解析成字典.\n",
    "3. 利用key选出需要的键值.\n",
    "4. 利用append把每一行添加进dataframe."
   ]
  },
  {
   "cell_type": "code",
   "execution_count": 18,
   "metadata": {},
   "outputs": [
    {
     "data": {
      "text/plain": [
       "dict_keys(['created_at', 'id', 'id_str', 'full_text', 'truncated', 'display_text_range', 'entities', 'extended_entities', 'source', 'in_reply_to_status_id', 'in_reply_to_status_id_str', 'in_reply_to_user_id', 'in_reply_to_user_id_str', 'in_reply_to_screen_name', 'user', 'geo', 'coordinates', 'place', 'contributors', 'is_quote_status', 'retweet_count', 'favorite_count', 'favorited', 'retweeted', 'possibly_sensitive', 'possibly_sensitive_appealable', 'lang'])"
      ]
     },
     "execution_count": 18,
     "metadata": {},
     "output_type": "execute_result"
    }
   ],
   "source": [
    "# 所有包含的keys\n",
    "json.loads(json_original[0][0]).keys()"
   ]
  },
  {
   "cell_type": "code",
   "execution_count": 19,
   "metadata": {},
   "outputs": [],
   "source": [
    "def create_df_from_json(file_name, keys):\n",
    "    \"\"\"\n",
    "    返回一个拥有特定keys的dataframe\n",
    "    -----\n",
    "    参数: \n",
    "    -----\n",
    "    file_name: 字符串, 文件地址\n",
    "    keys: 需要提取的键值\n",
    "    \"\"\"\n",
    "    json_original = pd.read_csv(file_name, header=None) # 读取json文件\n",
    "    df = pd.DataFrame(columns=keys) # 创建只含有表头的新dataframe, \n",
    "    # 提取keys并作为一行dataframe\n",
    "    index = 0\n",
    "    for json_object in json_original[0]:\n",
    "        try:\n",
    "            json_dict = json.loads(json_object) # 读取成json的dictionary.\n",
    "        except TypeError:\n",
    "            print(index, \"failes\") # 有些空值的文件读取不了就算了.\n",
    "        make_dict = dict(zip(keys, [json_dict[key] for key in keys]))\n",
    "        df = df.append(pd.DataFrame(make_dict, index=[index]))\n",
    "        index += 1\n",
    "    return df"
   ]
  },
  {
   "cell_type": "markdown",
   "metadata": {},
   "source": [
    "# Assessing json.txt data"
   ]
  },
  {
   "cell_type": "code",
   "execution_count": 20,
   "metadata": {},
   "outputs": [
    {
     "name": "stdout",
     "output_type": "stream",
     "text": [
      "19 failes\n",
      "95 failes\n",
      "118 failes\n",
      "132 failes\n",
      "155 failes\n",
      "247 failes\n",
      "260 failes\n",
      "298 failes\n",
      "382 failes\n",
      "566 failes\n",
      "784 failes\n",
      "3971 failes\n",
      "4191 failes\n",
      "4220 failes\n",
      "4300 failes\n",
      "4348 failes\n",
      "4411 failes\n"
     ]
    }
   ],
   "source": [
    "json_df = create_df_from_json('json.txt', keys)"
   ]
  },
  {
   "cell_type": "code",
   "execution_count": 21,
   "metadata": {},
   "outputs": [
    {
     "name": "stdout",
     "output_type": "stream",
     "text": [
      "<class 'pandas.core.frame.DataFrame'>\n",
      "Int64Index: 4431 entries, 0 to 4430\n",
      "Data columns (total 3 columns):\n",
      "favorite_count    4431 non-null object\n",
      "id                4431 non-null object\n",
      "retweet_count     4431 non-null object\n",
      "dtypes: object(3)\n",
      "memory usage: 138.5+ KB\n"
     ]
    }
   ],
   "source": [
    "json_df.info()"
   ]
  },
  {
   "cell_type": "code",
   "execution_count": 22,
   "metadata": {},
   "outputs": [
    {
     "data": {
      "text/html": [
       "<div>\n",
       "<style scoped>\n",
       "    .dataframe tbody tr th:only-of-type {\n",
       "        vertical-align: middle;\n",
       "    }\n",
       "\n",
       "    .dataframe tbody tr th {\n",
       "        vertical-align: top;\n",
       "    }\n",
       "\n",
       "    .dataframe thead th {\n",
       "        text-align: right;\n",
       "    }\n",
       "</style>\n",
       "<table border=\"1\" class=\"dataframe\">\n",
       "  <thead>\n",
       "    <tr style=\"text-align: right;\">\n",
       "      <th></th>\n",
       "      <th>favorite_count</th>\n",
       "      <th>id</th>\n",
       "      <th>retweet_count</th>\n",
       "    </tr>\n",
       "  </thead>\n",
       "  <tbody>\n",
       "    <tr>\n",
       "      <th>count</th>\n",
       "      <td>4431</td>\n",
       "      <td>4431</td>\n",
       "      <td>4431</td>\n",
       "    </tr>\n",
       "    <tr>\n",
       "      <th>unique</th>\n",
       "      <td>2135</td>\n",
       "      <td>2345</td>\n",
       "      <td>1748</td>\n",
       "    </tr>\n",
       "    <tr>\n",
       "      <th>top</th>\n",
       "      <td>0</td>\n",
       "      <td>888078434458587136</td>\n",
       "      <td>307</td>\n",
       "    </tr>\n",
       "    <tr>\n",
       "      <th>freq</th>\n",
       "      <td>245</td>\n",
       "      <td>3</td>\n",
       "      <td>8</td>\n",
       "    </tr>\n",
       "  </tbody>\n",
       "</table>\n",
       "</div>"
      ],
      "text/plain": [
       "        favorite_count                  id  retweet_count\n",
       "count             4431                4431           4431\n",
       "unique            2135                2345           1748\n",
       "top                  0  888078434458587136            307\n",
       "freq               245                   3              8"
      ]
     },
     "execution_count": 22,
     "metadata": {},
     "output_type": "execute_result"
    }
   ],
   "source": [
    "json_df.describe()"
   ]
  },
  {
   "cell_type": "markdown",
   "metadata": {},
   "source": [
    "## Quality issues\n",
    "1. id应该是string, 其余的应该是正整数.\n",
    "2. Twitter id unique的只有2345个, 说明有大量重复id."
   ]
  },
  {
   "cell_type": "markdown",
   "metadata": {},
   "source": [
    "### 查看重复id的条目信息, 看看是不是重复数据"
   ]
  },
  {
   "cell_type": "code",
   "execution_count": 23,
   "metadata": {},
   "outputs": [
    {
     "data": {
      "text/html": [
       "<div>\n",
       "<style scoped>\n",
       "    .dataframe tbody tr th:only-of-type {\n",
       "        vertical-align: middle;\n",
       "    }\n",
       "\n",
       "    .dataframe tbody tr th {\n",
       "        vertical-align: top;\n",
       "    }\n",
       "\n",
       "    .dataframe thead th {\n",
       "        text-align: right;\n",
       "    }\n",
       "</style>\n",
       "<table border=\"1\" class=\"dataframe\">\n",
       "  <thead>\n",
       "    <tr style=\"text-align: right;\">\n",
       "      <th></th>\n",
       "      <th>favorite_count</th>\n",
       "      <th>id</th>\n",
       "      <th>retweet_count</th>\n",
       "    </tr>\n",
       "  </thead>\n",
       "  <tbody>\n",
       "    <tr>\n",
       "      <th>19</th>\n",
       "      <td>20013</td>\n",
       "      <td>888554962724278272</td>\n",
       "      <td>3643</td>\n",
       "    </tr>\n",
       "    <tr>\n",
       "      <th>95</th>\n",
       "      <td>34924</td>\n",
       "      <td>874012996292530176</td>\n",
       "      <td>10693</td>\n",
       "    </tr>\n",
       "    <tr>\n",
       "      <th>118</th>\n",
       "      <td>37170</td>\n",
       "      <td>870063196459192321</td>\n",
       "      <td>8614</td>\n",
       "    </tr>\n",
       "    <tr>\n",
       "      <th>132</th>\n",
       "      <td>32858</td>\n",
       "      <td>867051520902168576</td>\n",
       "      <td>8188</td>\n",
       "    </tr>\n",
       "    <tr>\n",
       "      <th>155</th>\n",
       "      <td>76674</td>\n",
       "      <td>862096992088072192</td>\n",
       "      <td>24475</td>\n",
       "    </tr>\n",
       "    <tr>\n",
       "      <th>247</th>\n",
       "      <td>26692</td>\n",
       "      <td>845677943972139009</td>\n",
       "      <td>5229</td>\n",
       "    </tr>\n",
       "    <tr>\n",
       "      <th>260</th>\n",
       "      <td>22916</td>\n",
       "      <td>843235543001513987</td>\n",
       "      <td>6653</td>\n",
       "    </tr>\n",
       "    <tr>\n",
       "      <th>298</th>\n",
       "      <td>17181</td>\n",
       "      <td>837110210464448512</td>\n",
       "      <td>2659</td>\n",
       "    </tr>\n",
       "    <tr>\n",
       "      <th>382</th>\n",
       "      <td>17195</td>\n",
       "      <td>827324948884643840</td>\n",
       "      <td>3423</td>\n",
       "    </tr>\n",
       "    <tr>\n",
       "      <th>566</th>\n",
       "      <td>6953</td>\n",
       "      <td>802265048156610565</td>\n",
       "      <td>1542</td>\n",
       "    </tr>\n",
       "    <tr>\n",
       "      <th>784</th>\n",
       "      <td>11090</td>\n",
       "      <td>775350846108426240</td>\n",
       "      <td>4414</td>\n",
       "    </tr>\n",
       "    <tr>\n",
       "      <th>2356</th>\n",
       "      <td>2559</td>\n",
       "      <td>666020888022790149</td>\n",
       "      <td>521</td>\n",
       "    </tr>\n",
       "    <tr>\n",
       "      <th>2357</th>\n",
       "      <td>131</td>\n",
       "      <td>666029285002620928</td>\n",
       "      <td>47</td>\n",
       "    </tr>\n",
       "    <tr>\n",
       "      <th>2358</th>\n",
       "      <td>125</td>\n",
       "      <td>666033412701032449</td>\n",
       "      <td>45</td>\n",
       "    </tr>\n",
       "    <tr>\n",
       "      <th>2359</th>\n",
       "      <td>302</td>\n",
       "      <td>666044226329800704</td>\n",
       "      <td>141</td>\n",
       "    </tr>\n",
       "    <tr>\n",
       "      <th>2360</th>\n",
       "      <td>109</td>\n",
       "      <td>666049248165822465</td>\n",
       "      <td>40</td>\n",
       "    </tr>\n",
       "    <tr>\n",
       "      <th>2361</th>\n",
       "      <td>133</td>\n",
       "      <td>666050758794694657</td>\n",
       "      <td>58</td>\n",
       "    </tr>\n",
       "    <tr>\n",
       "      <th>2362</th>\n",
       "      <td>1229</td>\n",
       "      <td>666051853826850816</td>\n",
       "      <td>859</td>\n",
       "    </tr>\n",
       "    <tr>\n",
       "      <th>2363</th>\n",
       "      <td>441</td>\n",
       "      <td>666055525042405380</td>\n",
       "      <td>257</td>\n",
       "    </tr>\n",
       "    <tr>\n",
       "      <th>2364</th>\n",
       "      <td>300</td>\n",
       "      <td>666057090499244032</td>\n",
       "      <td>142</td>\n",
       "    </tr>\n",
       "    <tr>\n",
       "      <th>2365</th>\n",
       "      <td>114</td>\n",
       "      <td>666058600524156928</td>\n",
       "      <td>58</td>\n",
       "    </tr>\n",
       "    <tr>\n",
       "      <th>2366</th>\n",
       "      <td>480</td>\n",
       "      <td>666063827256086533</td>\n",
       "      <td>223</td>\n",
       "    </tr>\n",
       "    <tr>\n",
       "      <th>2367</th>\n",
       "      <td>148</td>\n",
       "      <td>666071193221509120</td>\n",
       "      <td>62</td>\n",
       "    </tr>\n",
       "    <tr>\n",
       "      <th>2368</th>\n",
       "      <td>326</td>\n",
       "      <td>666073100786774016</td>\n",
       "      <td>169</td>\n",
       "    </tr>\n",
       "    <tr>\n",
       "      <th>2369</th>\n",
       "      <td>120</td>\n",
       "      <td>666082916733198337</td>\n",
       "      <td>45</td>\n",
       "    </tr>\n",
       "    <tr>\n",
       "      <th>2370</th>\n",
       "      <td>166</td>\n",
       "      <td>666094000022159362</td>\n",
       "      <td>76</td>\n",
       "    </tr>\n",
       "    <tr>\n",
       "      <th>2371</th>\n",
       "      <td>158</td>\n",
       "      <td>666099513787052032</td>\n",
       "      <td>71</td>\n",
       "    </tr>\n",
       "    <tr>\n",
       "      <th>2372</th>\n",
       "      <td>80</td>\n",
       "      <td>666102155909144576</td>\n",
       "      <td>13</td>\n",
       "    </tr>\n",
       "    <tr>\n",
       "      <th>2373</th>\n",
       "      <td>14460</td>\n",
       "      <td>666104133288665088</td>\n",
       "      <td>6696</td>\n",
       "    </tr>\n",
       "    <tr>\n",
       "      <th>2374</th>\n",
       "      <td>105</td>\n",
       "      <td>666268910803644416</td>\n",
       "      <td>36</td>\n",
       "    </tr>\n",
       "    <tr>\n",
       "      <th>...</th>\n",
       "      <td>...</td>\n",
       "      <td>...</td>\n",
       "      <td>...</td>\n",
       "    </tr>\n",
       "    <tr>\n",
       "      <th>4393</th>\n",
       "      <td>24406</td>\n",
       "      <td>884562892145688576</td>\n",
       "      <td>4989</td>\n",
       "    </tr>\n",
       "    <tr>\n",
       "      <th>4394</th>\n",
       "      <td>28061</td>\n",
       "      <td>884876753390489601</td>\n",
       "      <td>5926</td>\n",
       "    </tr>\n",
       "    <tr>\n",
       "      <th>4396</th>\n",
       "      <td>22039</td>\n",
       "      <td>885167619883638784</td>\n",
       "      <td>4439</td>\n",
       "    </tr>\n",
       "    <tr>\n",
       "      <th>4397</th>\n",
       "      <td>0</td>\n",
       "      <td>885311592912609280</td>\n",
       "      <td>18814</td>\n",
       "    </tr>\n",
       "    <tr>\n",
       "      <th>4398</th>\n",
       "      <td>36159</td>\n",
       "      <td>885528943205470208</td>\n",
       "      <td>6526</td>\n",
       "    </tr>\n",
       "    <tr>\n",
       "      <th>4399</th>\n",
       "      <td>32848</td>\n",
       "      <td>885984800019947520</td>\n",
       "      <td>6906</td>\n",
       "    </tr>\n",
       "    <tr>\n",
       "      <th>4400</th>\n",
       "      <td>28078</td>\n",
       "      <td>886258384151887873</td>\n",
       "      <td>6382</td>\n",
       "    </tr>\n",
       "    <tr>\n",
       "      <th>4403</th>\n",
       "      <td>12125</td>\n",
       "      <td>886736880519319552</td>\n",
       "      <td>3341</td>\n",
       "    </tr>\n",
       "    <tr>\n",
       "      <th>4404</th>\n",
       "      <td>35310</td>\n",
       "      <td>886983233522544640</td>\n",
       "      <td>7868</td>\n",
       "    </tr>\n",
       "    <tr>\n",
       "      <th>4405</th>\n",
       "      <td>30677</td>\n",
       "      <td>887101392804085760</td>\n",
       "      <td>6040</td>\n",
       "    </tr>\n",
       "    <tr>\n",
       "      <th>4406</th>\n",
       "      <td>33825</td>\n",
       "      <td>887343217045368832</td>\n",
       "      <td>10537</td>\n",
       "    </tr>\n",
       "    <tr>\n",
       "      <th>4407</th>\n",
       "      <td>69410</td>\n",
       "      <td>887473957103951883</td>\n",
       "      <td>18470</td>\n",
       "    </tr>\n",
       "    <tr>\n",
       "      <th>4408</th>\n",
       "      <td>46431</td>\n",
       "      <td>887517139158093824</td>\n",
       "      <td>11811</td>\n",
       "    </tr>\n",
       "    <tr>\n",
       "      <th>4410</th>\n",
       "      <td>21853</td>\n",
       "      <td>888078434458587136</td>\n",
       "      <td>3548</td>\n",
       "    </tr>\n",
       "    <tr>\n",
       "      <th>4411</th>\n",
       "      <td>21853</td>\n",
       "      <td>888078434458587136</td>\n",
       "      <td>3548</td>\n",
       "    </tr>\n",
       "    <tr>\n",
       "      <th>4412</th>\n",
       "      <td>20013</td>\n",
       "      <td>888554962724278272</td>\n",
       "      <td>3643</td>\n",
       "    </tr>\n",
       "    <tr>\n",
       "      <th>4413</th>\n",
       "      <td>25701</td>\n",
       "      <td>888804989199671297</td>\n",
       "      <td>4413</td>\n",
       "    </tr>\n",
       "    <tr>\n",
       "      <th>4415</th>\n",
       "      <td>25395</td>\n",
       "      <td>889278841981685760</td>\n",
       "      <td>5516</td>\n",
       "    </tr>\n",
       "    <tr>\n",
       "      <th>4417</th>\n",
       "      <td>27290</td>\n",
       "      <td>889638837579907072</td>\n",
       "      <td>4600</td>\n",
       "    </tr>\n",
       "    <tr>\n",
       "      <th>4418</th>\n",
       "      <td>48275</td>\n",
       "      <td>889665388333682689</td>\n",
       "      <td>10193</td>\n",
       "    </tr>\n",
       "    <tr>\n",
       "      <th>4419</th>\n",
       "      <td>27908</td>\n",
       "      <td>889880896479866881</td>\n",
       "      <td>5030</td>\n",
       "    </tr>\n",
       "    <tr>\n",
       "      <th>4420</th>\n",
       "      <td>30778</td>\n",
       "      <td>890006608113172480</td>\n",
       "      <td>7439</td>\n",
       "    </tr>\n",
       "    <tr>\n",
       "      <th>4421</th>\n",
       "      <td>32073</td>\n",
       "      <td>890240255349198849</td>\n",
       "      <td>7525</td>\n",
       "    </tr>\n",
       "    <tr>\n",
       "      <th>4422</th>\n",
       "      <td>27879</td>\n",
       "      <td>890609185150312448</td>\n",
       "      <td>4321</td>\n",
       "    </tr>\n",
       "    <tr>\n",
       "      <th>4424</th>\n",
       "      <td>11901</td>\n",
       "      <td>890971913173991426</td>\n",
       "      <td>2105</td>\n",
       "    </tr>\n",
       "    <tr>\n",
       "      <th>4425</th>\n",
       "      <td>20294</td>\n",
       "      <td>891087950875897856</td>\n",
       "      <td>3155</td>\n",
       "    </tr>\n",
       "    <tr>\n",
       "      <th>4426</th>\n",
       "      <td>40474</td>\n",
       "      <td>891327558926688256</td>\n",
       "      <td>9522</td>\n",
       "    </tr>\n",
       "    <tr>\n",
       "      <th>4428</th>\n",
       "      <td>25142</td>\n",
       "      <td>891815181378084864</td>\n",
       "      <td>4213</td>\n",
       "    </tr>\n",
       "    <tr>\n",
       "      <th>4429</th>\n",
       "      <td>33357</td>\n",
       "      <td>892177421306343426</td>\n",
       "      <td>6351</td>\n",
       "    </tr>\n",
       "    <tr>\n",
       "      <th>4430</th>\n",
       "      <td>38966</td>\n",
       "      <td>892420643555336193</td>\n",
       "      <td>8643</td>\n",
       "    </tr>\n",
       "  </tbody>\n",
       "</table>\n",
       "<p>1924 rows × 3 columns</p>\n",
       "</div>"
      ],
      "text/plain": [
       "     favorite_count                  id retweet_count\n",
       "19            20013  888554962724278272          3643\n",
       "95            34924  874012996292530176         10693\n",
       "118           37170  870063196459192321          8614\n",
       "132           32858  867051520902168576          8188\n",
       "155           76674  862096992088072192         24475\n",
       "247           26692  845677943972139009          5229\n",
       "260           22916  843235543001513987          6653\n",
       "298           17181  837110210464448512          2659\n",
       "382           17195  827324948884643840          3423\n",
       "566            6953  802265048156610565          1542\n",
       "784           11090  775350846108426240          4414\n",
       "2356           2559  666020888022790149           521\n",
       "2357            131  666029285002620928            47\n",
       "2358            125  666033412701032449            45\n",
       "2359            302  666044226329800704           141\n",
       "2360            109  666049248165822465            40\n",
       "2361            133  666050758794694657            58\n",
       "2362           1229  666051853826850816           859\n",
       "2363            441  666055525042405380           257\n",
       "2364            300  666057090499244032           142\n",
       "2365            114  666058600524156928            58\n",
       "2366            480  666063827256086533           223\n",
       "2367            148  666071193221509120            62\n",
       "2368            326  666073100786774016           169\n",
       "2369            120  666082916733198337            45\n",
       "2370            166  666094000022159362            76\n",
       "2371            158  666099513787052032            71\n",
       "2372             80  666102155909144576            13\n",
       "2373          14460  666104133288665088          6696\n",
       "2374            105  666268910803644416            36\n",
       "...             ...                 ...           ...\n",
       "4393          24406  884562892145688576          4989\n",
       "4394          28061  884876753390489601          5926\n",
       "4396          22039  885167619883638784          4439\n",
       "4397              0  885311592912609280         18814\n",
       "4398          36159  885528943205470208          6526\n",
       "4399          32848  885984800019947520          6906\n",
       "4400          28078  886258384151887873          6382\n",
       "4403          12125  886736880519319552          3341\n",
       "4404          35310  886983233522544640          7868\n",
       "4405          30677  887101392804085760          6040\n",
       "4406          33825  887343217045368832         10537\n",
       "4407          69410  887473957103951883         18470\n",
       "4408          46431  887517139158093824         11811\n",
       "4410          21853  888078434458587136          3548\n",
       "4411          21853  888078434458587136          3548\n",
       "4412          20013  888554962724278272          3643\n",
       "4413          25701  888804989199671297          4413\n",
       "4415          25395  889278841981685760          5516\n",
       "4417          27290  889638837579907072          4600\n",
       "4418          48275  889665388333682689         10193\n",
       "4419          27908  889880896479866881          5030\n",
       "4420          30778  890006608113172480          7439\n",
       "4421          32073  890240255349198849          7525\n",
       "4422          27879  890609185150312448          4321\n",
       "4424          11901  890971913173991426          2105\n",
       "4425          20294  891087950875897856          3155\n",
       "4426          40474  891327558926688256          9522\n",
       "4428          25142  891815181378084864          4213\n",
       "4429          33357  892177421306343426          6351\n",
       "4430          38966  892420643555336193          8643\n",
       "\n",
       "[1924 rows x 3 columns]"
      ]
     },
     "execution_count": 23,
     "metadata": {},
     "output_type": "execute_result"
    }
   ],
   "source": [
    "json_df[json_df.duplicated()]"
   ]
  },
  {
   "cell_type": "code",
   "execution_count": 24,
   "metadata": {},
   "outputs": [
    {
     "data": {
      "text/html": [
       "<div>\n",
       "<style scoped>\n",
       "    .dataframe tbody tr th:only-of-type {\n",
       "        vertical-align: middle;\n",
       "    }\n",
       "\n",
       "    .dataframe tbody tr th {\n",
       "        vertical-align: top;\n",
       "    }\n",
       "\n",
       "    .dataframe thead th {\n",
       "        text-align: right;\n",
       "    }\n",
       "</style>\n",
       "<table border=\"1\" class=\"dataframe\">\n",
       "  <thead>\n",
       "    <tr style=\"text-align: right;\">\n",
       "      <th></th>\n",
       "      <th>favorite_count</th>\n",
       "      <th>id</th>\n",
       "      <th>retweet_count</th>\n",
       "    </tr>\n",
       "  </thead>\n",
       "  <tbody>\n",
       "    <tr>\n",
       "      <th>18</th>\n",
       "      <td>20013</td>\n",
       "      <td>888554962724278272</td>\n",
       "      <td>3643</td>\n",
       "    </tr>\n",
       "    <tr>\n",
       "      <th>19</th>\n",
       "      <td>20013</td>\n",
       "      <td>888554962724278272</td>\n",
       "      <td>3643</td>\n",
       "    </tr>\n",
       "    <tr>\n",
       "      <th>4412</th>\n",
       "      <td>20013</td>\n",
       "      <td>888554962724278272</td>\n",
       "      <td>3643</td>\n",
       "    </tr>\n",
       "  </tbody>\n",
       "</table>\n",
       "</div>"
      ],
      "text/plain": [
       "     favorite_count                  id retweet_count\n",
       "18            20013  888554962724278272          3643\n",
       "19            20013  888554962724278272          3643\n",
       "4412          20013  888554962724278272          3643"
      ]
     },
     "execution_count": 24,
     "metadata": {},
     "output_type": "execute_result"
    }
   ],
   "source": [
    "json_df[json_df.id == 888554962724278272]"
   ]
  },
  {
   "cell_type": "markdown",
   "metadata": {},
   "source": [
    "是重复的"
   ]
  },
  {
   "cell_type": "markdown",
   "metadata": {},
   "source": [
    "### tideness issues\n",
    "1. 重复数据.\n",
    "2. 表1,表2,表3可以合并."
   ]
  },
  {
   "cell_type": "markdown",
   "metadata": {},
   "source": [
    "# Clean data\n",
    "## define\n",
    "### quality issues\n",
    "表1\n",
    "1. in_reply_to_status_id\n",
    "2. in_reply_to_user_id\n",
    "3. retweeted_stated_id\n",
    "4. retweeted_status_user_id\n",
    "5. expanded_urls\n",
    "6. id类,name,text应该是字符串\n",
    "7. source需要把网址提取出来,iPhone,Twitter,vine,tweetdeck.\n",
    "8. 小狗种类应该是布林值.\n",
    "\n",
    "表2\n",
    "1. tweet_id 应该是string.\n",
    "2. jpg_url 应该是string.\n",
    "\n",
    "### tideness issues\n",
    "表1\n",
    "1. 转发的三列包含了两个意思, 第一个是是否转发, 第二个才是转发的具体信息, 所以应该有一列是布林值的retweet.\n",
    "2. 同理,回复列的in_reply_to的两个变量也是, id是value,而列的名字应该是变量名, 所以有一列应该是布林值的replay.\n",
    "3. 狗狗的成长阶段是value,应该作为stage的值,所以应该新建一个stage的列,把值填进去.\n",
    "4. 回复类的和转发类的应该是两个单独的表.\n",
    "\n",
    "表3\n",
    "1. 重复数据.\n",
    "2. 表1,表2,表3可以合并."
   ]
  },
  {
   "cell_type": "markdown",
   "metadata": {},
   "source": [
    "## code"
   ]
  },
  {
   "cell_type": "code",
   "execution_count": 282,
   "metadata": {},
   "outputs": [],
   "source": [
    "# 解决表1的空值问题.\n",
    "twitter_archive_enhanced_clean = twitter_archive_enhanced.copy()"
   ]
  },
  {
   "cell_type": "code",
   "execution_count": 283,
   "metadata": {},
   "outputs": [
    {
     "name": "stdout",
     "output_type": "stream",
     "text": [
      "<class 'pandas.core.frame.DataFrame'>\n",
      "RangeIndex: 2356 entries, 0 to 2355\n",
      "Data columns (total 17 columns):\n",
      "tweet_id                      2356 non-null int64\n",
      "in_reply_to_status_id         78 non-null float64\n",
      "in_reply_to_user_id           78 non-null float64\n",
      "timestamp                     2356 non-null object\n",
      "source                        2356 non-null object\n",
      "text                          2356 non-null object\n",
      "retweeted_status_id           181 non-null float64\n",
      "retweeted_status_user_id      181 non-null float64\n",
      "retweeted_status_timestamp    181 non-null object\n",
      "expanded_urls                 2297 non-null object\n",
      "rating_numerator              2356 non-null int64\n",
      "rating_denominator            2356 non-null int64\n",
      "name                          2356 non-null object\n",
      "doggo                         2356 non-null object\n",
      "floofer                       2356 non-null object\n",
      "pupper                        2356 non-null object\n",
      "puppo                         2356 non-null object\n",
      "dtypes: float64(4), int64(3), object(10)\n",
      "memory usage: 313.0+ KB\n"
     ]
    }
   ],
   "source": [
    "twitter_archive_enhanced_clean.info()"
   ]
  },
  {
   "cell_type": "markdown",
   "metadata": {},
   "source": [
    "@TODO: 对于这几个空值我该如何清理?\n",
    "1. in_reply相关: 这是一条回复用的tweet. 不一定需要删除, 空值说明是原创的tweet."
   ]
  },
  {
   "cell_type": "markdown",
   "metadata": {},
   "source": [
    "从上面的表可以看出来,回复用的tweet是没有狗狗图片的,所以应该删除."
   ]
  },
  {
   "cell_type": "code",
   "execution_count": 284,
   "metadata": {},
   "outputs": [],
   "source": [
    "twitter_archive_enhanced_clean = twitter_archive_enhanced_clean[twitter_archive_enhanced_clean.in_reply_to_status_id.isnull()]"
   ]
  },
  {
   "cell_type": "code",
   "execution_count": 285,
   "metadata": {},
   "outputs": [],
   "source": [
    "# 删除掉这两列\n",
    "twitter_archive_enhanced_clean = twitter_archive_enhanced_clean.drop(['in_reply_to_status_id','in_reply_to_user_id'],axis=1)"
   ]
  },
  {
   "cell_type": "code",
   "execution_count": 286,
   "metadata": {},
   "outputs": [
    {
     "name": "stdout",
     "output_type": "stream",
     "text": [
      "<class 'pandas.core.frame.DataFrame'>\n",
      "Int64Index: 2278 entries, 0 to 2355\n",
      "Data columns (total 15 columns):\n",
      "tweet_id                      2278 non-null int64\n",
      "timestamp                     2278 non-null object\n",
      "source                        2278 non-null object\n",
      "text                          2278 non-null object\n",
      "retweeted_status_id           181 non-null float64\n",
      "retweeted_status_user_id      181 non-null float64\n",
      "retweeted_status_timestamp    181 non-null object\n",
      "expanded_urls                 2274 non-null object\n",
      "rating_numerator              2278 non-null int64\n",
      "rating_denominator            2278 non-null int64\n",
      "name                          2278 non-null object\n",
      "doggo                         2278 non-null object\n",
      "floofer                       2278 non-null object\n",
      "pupper                        2278 non-null object\n",
      "puppo                         2278 non-null object\n",
      "dtypes: float64(2), int64(3), object(10)\n",
      "memory usage: 284.8+ KB\n"
     ]
    }
   ],
   "source": [
    "# test 看看删除之后的效果\n",
    "twitter_archive_enhanced_clean.info()"
   ]
  },
  {
   "cell_type": "markdown",
   "metadata": {},
   "source": [
    "define: 删除掉转发的Twitter\n",
    "@TODO: 如何判断是不是转发的?\n",
    "retweeted的意思: 里面是原tweeter的id,利用retweeted_status,non_null说明这是一条转发的, 所以应该删除."
   ]
  },
  {
   "cell_type": "code",
   "execution_count": 287,
   "metadata": {},
   "outputs": [],
   "source": [
    "# code \n",
    "twitter_archive_enhanced_clean = twitter_archive_enhanced_clean[twitter_archive_enhanced_clean.retweeted_status_id.isnull()]\n",
    "# 删除转发的三列\n",
    "twitter_archive_enhanced_clean = twitter_archive_enhanced_clean.drop(['retweeted_status_id', 'retweeted_status_user_id', 'retweeted_status_timestamp'], axis=1)"
   ]
  },
  {
   "cell_type": "code",
   "execution_count": 288,
   "metadata": {},
   "outputs": [
    {
     "name": "stdout",
     "output_type": "stream",
     "text": [
      "<class 'pandas.core.frame.DataFrame'>\n",
      "Int64Index: 2097 entries, 0 to 2355\n",
      "Data columns (total 12 columns):\n",
      "tweet_id              2097 non-null int64\n",
      "timestamp             2097 non-null object\n",
      "source                2097 non-null object\n",
      "text                  2097 non-null object\n",
      "expanded_urls         2094 non-null object\n",
      "rating_numerator      2097 non-null int64\n",
      "rating_denominator    2097 non-null int64\n",
      "name                  2097 non-null object\n",
      "doggo                 2097 non-null object\n",
      "floofer               2097 non-null object\n",
      "pupper                2097 non-null object\n",
      "puppo                 2097 non-null object\n",
      "dtypes: int64(3), object(9)\n",
      "memory usage: 213.0+ KB\n"
     ]
    }
   ],
   "source": [
    "# test\n",
    "twitter_archive_enhanced_clean.info()"
   ]
  },
  {
   "cell_type": "markdown",
   "metadata": {},
   "source": [
    "## define\n",
    "删除没有关系的列."
   ]
  },
  {
   "cell_type": "code",
   "execution_count": 289,
   "metadata": {},
   "outputs": [],
   "source": [
    "uselessColumns = ['expanded_urls', 'source']"
   ]
  },
  {
   "cell_type": "code",
   "execution_count": 290,
   "metadata": {},
   "outputs": [],
   "source": [
    "# 删除没用的列\n",
    "twitter_archive_enhanced_clean = twitter_archive_enhanced_clean.drop(uselessColumns, axis=1)"
   ]
  },
  {
   "cell_type": "code",
   "execution_count": 291,
   "metadata": {},
   "outputs": [
    {
     "name": "stdout",
     "output_type": "stream",
     "text": [
      "<class 'pandas.core.frame.DataFrame'>\n",
      "Int64Index: 2097 entries, 0 to 2355\n",
      "Data columns (total 10 columns):\n",
      "tweet_id              2097 non-null int64\n",
      "timestamp             2097 non-null object\n",
      "text                  2097 non-null object\n",
      "rating_numerator      2097 non-null int64\n",
      "rating_denominator    2097 non-null int64\n",
      "name                  2097 non-null object\n",
      "doggo                 2097 non-null object\n",
      "floofer               2097 non-null object\n",
      "pupper                2097 non-null object\n",
      "puppo                 2097 non-null object\n",
      "dtypes: int64(3), object(7)\n",
      "memory usage: 180.2+ KB\n"
     ]
    }
   ],
   "source": [
    "# test\n",
    "twitter_archive_enhanced_clean.info()"
   ]
  },
  {
   "cell_type": "markdown",
   "metadata": {},
   "source": [
    "### define: 把数据的类型变为正确的\n",
    "1. tweet_id, text, name, doggo, floofer, pupper, puppo是string\n",
    "2. timestamp 是时间"
   ]
  },
  {
   "cell_type": "code",
   "execution_count": 292,
   "metadata": {},
   "outputs": [],
   "source": [
    "#code\n",
    "twitter_archive_enhanced_clean.timestamp = pd.to_datetime(twitter_archive_enhanced_clean.timestamp)"
   ]
  },
  {
   "cell_type": "code",
   "execution_count": 293,
   "metadata": {},
   "outputs": [
    {
     "name": "stdout",
     "output_type": "stream",
     "text": [
      "<class 'pandas.core.frame.DataFrame'>\n",
      "Int64Index: 2097 entries, 0 to 2355\n",
      "Data columns (total 10 columns):\n",
      "tweet_id              2097 non-null int64\n",
      "timestamp             2097 non-null datetime64[ns]\n",
      "text                  2097 non-null object\n",
      "rating_numerator      2097 non-null int64\n",
      "rating_denominator    2097 non-null int64\n",
      "name                  2097 non-null object\n",
      "doggo                 2097 non-null object\n",
      "floofer               2097 non-null object\n",
      "pupper                2097 non-null object\n",
      "puppo                 2097 non-null object\n",
      "dtypes: datetime64[ns](1), int64(3), object(6)\n",
      "memory usage: 180.2+ KB\n"
     ]
    }
   ],
   "source": [
    "#test\n",
    "twitter_archive_enhanced_clean.info()"
   ]
  },
  {
   "cell_type": "code",
   "execution_count": 294,
   "metadata": {},
   "outputs": [],
   "source": [
    "# change the others into string.\n",
    "twitter_archive_enhanced_clean.tweet_id = twitter_archive_enhanced_clean.tweet_id.apply(str)"
   ]
  },
  {
   "cell_type": "code",
   "execution_count": 295,
   "metadata": {},
   "outputs": [
    {
     "name": "stdout",
     "output_type": "stream",
     "text": [
      "<class 'pandas.core.frame.DataFrame'>\n",
      "Int64Index: 2097 entries, 0 to 2355\n",
      "Data columns (total 10 columns):\n",
      "tweet_id              2097 non-null object\n",
      "timestamp             2097 non-null datetime64[ns]\n",
      "text                  2097 non-null object\n",
      "rating_numerator      2097 non-null int64\n",
      "rating_denominator    2097 non-null int64\n",
      "name                  2097 non-null object\n",
      "doggo                 2097 non-null object\n",
      "floofer               2097 non-null object\n",
      "pupper                2097 non-null object\n",
      "puppo                 2097 non-null object\n",
      "dtypes: datetime64[ns](1), int64(2), object(7)\n",
      "memory usage: 180.2+ KB\n"
     ]
    }
   ],
   "source": [
    "twitter_archive_enhanced_clean.info()"
   ]
  },
  {
   "cell_type": "markdown",
   "metadata": {},
   "source": [
    "# define: 小狗的stage作为一列"
   ]
  },
  {
   "cell_type": "code",
   "execution_count": 296,
   "metadata": {},
   "outputs": [
    {
     "data": {
      "text/plain": [
       "Index(['tweet_id', 'timestamp', 'text', 'rating_numerator',\n",
       "       'rating_denominator', 'name', 'doggo', 'floofer', 'pupper', 'puppo'],\n",
       "      dtype='object')"
      ]
     },
     "execution_count": 296,
     "metadata": {},
     "output_type": "execute_result"
    }
   ],
   "source": [
    "# code\n",
    "twitter_archive_enhanced_clean.columns"
   ]
  },
  {
   "cell_type": "code",
   "execution_count": 297,
   "metadata": {},
   "outputs": [
    {
     "name": "stdout",
     "output_type": "stream",
     "text": [
      "['None' 'doggo']\n",
      "['None' 'floofer']\n",
      "['None' 'pupper']\n",
      "['None' 'puppo']\n"
     ]
    }
   ],
   "source": [
    "for stage in dogStages:\n",
    "    print(twitter_archive_enhanced_clean[stage].unique())"
   ]
  },
  {
   "cell_type": "markdown",
   "metadata": {},
   "source": [
    "说明每一列都是None或者狗的stage"
   ]
  },
  {
   "cell_type": "code",
   "execution_count": 298,
   "metadata": {},
   "outputs": [],
   "source": [
    "def stage_name(df):\n",
    "    for stageName in df[dogStages]:\n",
    "        if stageName != 'None':\n",
    "            return stageName\n",
    "    return None"
   ]
  },
  {
   "cell_type": "code",
   "execution_count": 299,
   "metadata": {},
   "outputs": [],
   "source": [
    "twitter_archive_enhanced_clean['stage'] = twitter_archive_enhanced_clean.apply(stage_name, axis=1)"
   ]
  },
  {
   "cell_type": "code",
   "execution_count": 300,
   "metadata": {},
   "outputs": [],
   "source": [
    "# delete dog specific stages\n",
    "twitter_archive_enhanced_clean = twitter_archive_enhanced_clean.drop(dogStages, axis=1)"
   ]
  },
  {
   "cell_type": "code",
   "execution_count": 301,
   "metadata": {},
   "outputs": [
    {
     "data": {
      "text/html": [
       "<div>\n",
       "<style scoped>\n",
       "    .dataframe tbody tr th:only-of-type {\n",
       "        vertical-align: middle;\n",
       "    }\n",
       "\n",
       "    .dataframe tbody tr th {\n",
       "        vertical-align: top;\n",
       "    }\n",
       "\n",
       "    .dataframe thead th {\n",
       "        text-align: right;\n",
       "    }\n",
       "</style>\n",
       "<table border=\"1\" class=\"dataframe\">\n",
       "  <thead>\n",
       "    <tr style=\"text-align: right;\">\n",
       "      <th></th>\n",
       "      <th>tweet_id</th>\n",
       "      <th>timestamp</th>\n",
       "      <th>text</th>\n",
       "      <th>rating_numerator</th>\n",
       "      <th>rating_denominator</th>\n",
       "      <th>name</th>\n",
       "      <th>stage</th>\n",
       "    </tr>\n",
       "  </thead>\n",
       "  <tbody>\n",
       "    <tr>\n",
       "      <th>845</th>\n",
       "      <td>766423258543644672</td>\n",
       "      <td>2016-08-18 23:55:18</td>\n",
       "      <td>This is Shadoe. Her tongue flies out of her mo...</td>\n",
       "      <td>9</td>\n",
       "      <td>10</td>\n",
       "      <td>Shadoe</td>\n",
       "      <td>None</td>\n",
       "    </tr>\n",
       "    <tr>\n",
       "      <th>100</th>\n",
       "      <td>872820683541237760</td>\n",
       "      <td>2017-06-08 14:20:41</td>\n",
       "      <td>Here are my favorite #dogsatpollingstations \\n...</td>\n",
       "      <td>13</td>\n",
       "      <td>10</td>\n",
       "      <td>None</td>\n",
       "      <td>None</td>\n",
       "    </tr>\n",
       "    <tr>\n",
       "      <th>410</th>\n",
       "      <td>823322678127919110</td>\n",
       "      <td>2017-01-23 00:13:17</td>\n",
       "      <td>This is Wyatt. He's got the fastest paws in th...</td>\n",
       "      <td>11</td>\n",
       "      <td>10</td>\n",
       "      <td>Wyatt</td>\n",
       "      <td>None</td>\n",
       "    </tr>\n",
       "    <tr>\n",
       "      <th>2</th>\n",
       "      <td>891815181378084864</td>\n",
       "      <td>2017-07-31 00:18:03</td>\n",
       "      <td>This is Archie. He is a rare Norwegian Pouncin...</td>\n",
       "      <td>12</td>\n",
       "      <td>10</td>\n",
       "      <td>Archie</td>\n",
       "      <td>None</td>\n",
       "    </tr>\n",
       "    <tr>\n",
       "      <th>1200</th>\n",
       "      <td>716730379797970944</td>\n",
       "      <td>2016-04-03 20:53:33</td>\n",
       "      <td>There has clearly been a mistake. Pup did noth...</td>\n",
       "      <td>12</td>\n",
       "      <td>10</td>\n",
       "      <td>None</td>\n",
       "      <td>None</td>\n",
       "    </tr>\n",
       "    <tr>\n",
       "      <th>975</th>\n",
       "      <td>750041628174217216</td>\n",
       "      <td>2016-07-04 19:00:33</td>\n",
       "      <td>This is Beau. He's trying to keep his daddy fr...</td>\n",
       "      <td>13</td>\n",
       "      <td>10</td>\n",
       "      <td>Beau</td>\n",
       "      <td>None</td>\n",
       "    </tr>\n",
       "    <tr>\n",
       "      <th>1237</th>\n",
       "      <td>712309440758808576</td>\n",
       "      <td>2016-03-22 16:06:19</td>\n",
       "      <td>Reminder that we made our first set of sticker...</td>\n",
       "      <td>12</td>\n",
       "      <td>10</td>\n",
       "      <td>None</td>\n",
       "      <td>pupper</td>\n",
       "    </tr>\n",
       "    <tr>\n",
       "      <th>674</th>\n",
       "      <td>789599242079838210</td>\n",
       "      <td>2016-10-21 22:48:24</td>\n",
       "      <td>This is Brownie. She's wearing a Halloween the...</td>\n",
       "      <td>12</td>\n",
       "      <td>10</td>\n",
       "      <td>Brownie</td>\n",
       "      <td>None</td>\n",
       "    </tr>\n",
       "    <tr>\n",
       "      <th>15</th>\n",
       "      <td>889278841981685760</td>\n",
       "      <td>2017-07-24 00:19:32</td>\n",
       "      <td>This is Oliver. You're witnessing one of his m...</td>\n",
       "      <td>13</td>\n",
       "      <td>10</td>\n",
       "      <td>Oliver</td>\n",
       "      <td>None</td>\n",
       "    </tr>\n",
       "    <tr>\n",
       "      <th>1700</th>\n",
       "      <td>680959110691590145</td>\n",
       "      <td>2015-12-27 03:51:18</td>\n",
       "      <td>This is Ozzie. He was doing fine until he lost...</td>\n",
       "      <td>9</td>\n",
       "      <td>10</td>\n",
       "      <td>Ozzie</td>\n",
       "      <td>None</td>\n",
       "    </tr>\n",
       "  </tbody>\n",
       "</table>\n",
       "</div>"
      ],
      "text/plain": [
       "                tweet_id           timestamp  \\\n",
       "845   766423258543644672 2016-08-18 23:55:18   \n",
       "100   872820683541237760 2017-06-08 14:20:41   \n",
       "410   823322678127919110 2017-01-23 00:13:17   \n",
       "2     891815181378084864 2017-07-31 00:18:03   \n",
       "1200  716730379797970944 2016-04-03 20:53:33   \n",
       "975   750041628174217216 2016-07-04 19:00:33   \n",
       "1237  712309440758808576 2016-03-22 16:06:19   \n",
       "674   789599242079838210 2016-10-21 22:48:24   \n",
       "15    889278841981685760 2017-07-24 00:19:32   \n",
       "1700  680959110691590145 2015-12-27 03:51:18   \n",
       "\n",
       "                                                   text  rating_numerator  \\\n",
       "845   This is Shadoe. Her tongue flies out of her mo...                 9   \n",
       "100   Here are my favorite #dogsatpollingstations \\n...                13   \n",
       "410   This is Wyatt. He's got the fastest paws in th...                11   \n",
       "2     This is Archie. He is a rare Norwegian Pouncin...                12   \n",
       "1200  There has clearly been a mistake. Pup did noth...                12   \n",
       "975   This is Beau. He's trying to keep his daddy fr...                13   \n",
       "1237  Reminder that we made our first set of sticker...                12   \n",
       "674   This is Brownie. She's wearing a Halloween the...                12   \n",
       "15    This is Oliver. You're witnessing one of his m...                13   \n",
       "1700  This is Ozzie. He was doing fine until he lost...                 9   \n",
       "\n",
       "      rating_denominator     name   stage  \n",
       "845                   10   Shadoe    None  \n",
       "100                   10     None    None  \n",
       "410                   10    Wyatt    None  \n",
       "2                     10   Archie    None  \n",
       "1200                  10     None    None  \n",
       "975                   10     Beau    None  \n",
       "1237                  10     None  pupper  \n",
       "674                   10  Brownie    None  \n",
       "15                    10   Oliver    None  \n",
       "1700                  10    Ozzie    None  "
      ]
     },
     "execution_count": 301,
     "metadata": {},
     "output_type": "execute_result"
    }
   ],
   "source": [
    "# test\n",
    "twitter_archive_enhanced_clean.sample(10)"
   ]
  },
  {
   "cell_type": "code",
   "execution_count": 302,
   "metadata": {},
   "outputs": [
    {
     "name": "stdout",
     "output_type": "stream",
     "text": [
      "<class 'pandas.core.frame.DataFrame'>\n",
      "Int64Index: 2097 entries, 0 to 2355\n",
      "Data columns (total 7 columns):\n",
      "tweet_id              2097 non-null object\n",
      "timestamp             2097 non-null datetime64[ns]\n",
      "text                  2097 non-null object\n",
      "rating_numerator      2097 non-null int64\n",
      "rating_denominator    2097 non-null int64\n",
      "name                  2097 non-null object\n",
      "stage                 336 non-null object\n",
      "dtypes: datetime64[ns](1), int64(2), object(4)\n",
      "memory usage: 131.1+ KB\n"
     ]
    }
   ],
   "source": [
    "twitter_archive_enhanced_clean.info()"
   ]
  },
  {
   "cell_type": "code",
   "execution_count": 303,
   "metadata": {},
   "outputs": [],
   "source": [
    "twitter_archive_enhanced_clean['point'] = twitter_archive_enhanced_clean.rating_numerator / twitter_archive_enhanced_clean.rating_denominator"
   ]
  },
  {
   "cell_type": "code",
   "execution_count": 304,
   "metadata": {},
   "outputs": [
    {
     "name": "stdout",
     "output_type": "stream",
     "text": [
      "<class 'pandas.core.frame.DataFrame'>\n",
      "Int64Index: 2097 entries, 0 to 2355\n",
      "Data columns (total 8 columns):\n",
      "tweet_id              2097 non-null object\n",
      "timestamp             2097 non-null datetime64[ns]\n",
      "text                  2097 non-null object\n",
      "rating_numerator      2097 non-null int64\n",
      "rating_denominator    2097 non-null int64\n",
      "name                  2097 non-null object\n",
      "stage                 336 non-null object\n",
      "point                 2097 non-null float64\n",
      "dtypes: datetime64[ns](1), float64(1), int64(2), object(4)\n",
      "memory usage: 147.4+ KB\n"
     ]
    }
   ],
   "source": [
    "twitter_archive_enhanced_clean.info()"
   ]
  },
  {
   "cell_type": "markdown",
   "metadata": {},
   "source": [
    "## 表2 clean data"
   ]
  },
  {
   "cell_type": "code",
   "execution_count": 305,
   "metadata": {},
   "outputs": [
    {
     "name": "stdout",
     "output_type": "stream",
     "text": [
      "<class 'pandas.core.frame.DataFrame'>\n",
      "RangeIndex: 2075 entries, 0 to 2074\n",
      "Data columns (total 12 columns):\n",
      "tweet_id    2075 non-null int64\n",
      "jpg_url     2075 non-null object\n",
      "img_num     2075 non-null int64\n",
      "p1          2075 non-null object\n",
      "p1_conf     2075 non-null float64\n",
      "p1_dog      2075 non-null bool\n",
      "p2          2075 non-null object\n",
      "p2_conf     2075 non-null float64\n",
      "p2_dog      2075 non-null bool\n",
      "p3          2075 non-null object\n",
      "p3_conf     2075 non-null float64\n",
      "p3_dog      2075 non-null bool\n",
      "dtypes: bool(3), float64(3), int64(2), object(4)\n",
      "memory usage: 152.1+ KB\n"
     ]
    }
   ],
   "source": [
    "image_predictions.info()"
   ]
  },
  {
   "cell_type": "code",
   "execution_count": 306,
   "metadata": {},
   "outputs": [],
   "source": [
    "image_predictions_clean = image_predictions.copy()"
   ]
  },
  {
   "cell_type": "code",
   "execution_count": 307,
   "metadata": {},
   "outputs": [],
   "source": [
    "image_predictions_clean.tweet_id = image_predictions_clean.tweet_id.apply(str)"
   ]
  },
  {
   "cell_type": "code",
   "execution_count": 308,
   "metadata": {},
   "outputs": [
    {
     "name": "stdout",
     "output_type": "stream",
     "text": [
      "<class 'pandas.core.frame.DataFrame'>\n",
      "RangeIndex: 2075 entries, 0 to 2074\n",
      "Data columns (total 12 columns):\n",
      "tweet_id    2075 non-null object\n",
      "jpg_url     2075 non-null object\n",
      "img_num     2075 non-null int64\n",
      "p1          2075 non-null object\n",
      "p1_conf     2075 non-null float64\n",
      "p1_dog      2075 non-null bool\n",
      "p2          2075 non-null object\n",
      "p2_conf     2075 non-null float64\n",
      "p2_dog      2075 non-null bool\n",
      "p3          2075 non-null object\n",
      "p3_conf     2075 non-null float64\n",
      "p3_dog      2075 non-null bool\n",
      "dtypes: bool(3), float64(3), int64(1), object(5)\n",
      "memory usage: 152.1+ KB\n"
     ]
    }
   ],
   "source": [
    "image_predictions_clean.info()"
   ]
  },
  {
   "cell_type": "code",
   "execution_count": 309,
   "metadata": {},
   "outputs": [],
   "source": [
    "# combine image_prediction and twitter_archive\n",
    "df_clean = image_predictions_clean.merge(twitter_archive_enhanced_clean, on='tweet_id')"
   ]
  },
  {
   "cell_type": "code",
   "execution_count": 310,
   "metadata": {},
   "outputs": [
    {
     "name": "stdout",
     "output_type": "stream",
     "text": [
      "<class 'pandas.core.frame.DataFrame'>\n",
      "Int64Index: 1971 entries, 0 to 1970\n",
      "Data columns (total 19 columns):\n",
      "tweet_id              1971 non-null object\n",
      "jpg_url               1971 non-null object\n",
      "img_num               1971 non-null int64\n",
      "p1                    1971 non-null object\n",
      "p1_conf               1971 non-null float64\n",
      "p1_dog                1971 non-null bool\n",
      "p2                    1971 non-null object\n",
      "p2_conf               1971 non-null float64\n",
      "p2_dog                1971 non-null bool\n",
      "p3                    1971 non-null object\n",
      "p3_conf               1971 non-null float64\n",
      "p3_dog                1971 non-null bool\n",
      "timestamp             1971 non-null datetime64[ns]\n",
      "text                  1971 non-null object\n",
      "rating_numerator      1971 non-null int64\n",
      "rating_denominator    1971 non-null int64\n",
      "name                  1971 non-null object\n",
      "stage                 303 non-null object\n",
      "point                 1971 non-null float64\n",
      "dtypes: bool(3), datetime64[ns](1), float64(4), int64(3), object(8)\n",
      "memory usage: 267.5+ KB\n"
     ]
    }
   ],
   "source": [
    "df_clean.info()"
   ]
  },
  {
   "cell_type": "markdown",
   "metadata": {},
   "source": [
    "## clean 表3"
   ]
  },
  {
   "cell_type": "code",
   "execution_count": 311,
   "metadata": {},
   "outputs": [
    {
     "name": "stdout",
     "output_type": "stream",
     "text": [
      "<class 'pandas.core.frame.DataFrame'>\n",
      "Int64Index: 4431 entries, 0 to 4430\n",
      "Data columns (total 3 columns):\n",
      "favorite_count    4431 non-null object\n",
      "id                4431 non-null object\n",
      "retweet_count     4431 non-null object\n",
      "dtypes: object(3)\n",
      "memory usage: 138.5+ KB\n"
     ]
    }
   ],
   "source": [
    "json_df.info()"
   ]
  },
  {
   "cell_type": "code",
   "execution_count": 312,
   "metadata": {},
   "outputs": [],
   "source": [
    "json_clean = json_df.copy()"
   ]
  },
  {
   "cell_type": "code",
   "execution_count": 313,
   "metadata": {},
   "outputs": [],
   "source": [
    "json_clean = json_clean.rename(columns={'id': 'tweet_id'})"
   ]
  },
  {
   "cell_type": "code",
   "execution_count": 314,
   "metadata": {},
   "outputs": [],
   "source": [
    "json_clean.tweet_id = json_clean.tweet_id.apply(str)"
   ]
  },
  {
   "cell_type": "code",
   "execution_count": 315,
   "metadata": {},
   "outputs": [
    {
     "name": "stdout",
     "output_type": "stream",
     "text": [
      "<class 'pandas.core.frame.DataFrame'>\n",
      "Int64Index: 4431 entries, 0 to 4430\n",
      "Data columns (total 3 columns):\n",
      "favorite_count    4431 non-null object\n",
      "tweet_id          4431 non-null object\n",
      "retweet_count     4431 non-null object\n",
      "dtypes: object(3)\n",
      "memory usage: 138.5+ KB\n"
     ]
    }
   ],
   "source": [
    "json_clean.info()"
   ]
  },
  {
   "cell_type": "code",
   "execution_count": 316,
   "metadata": {},
   "outputs": [],
   "source": [
    "# drop duplicate ones in json_clean\n",
    "json_clean = json_clean[json_clean.tweet_id.duplicated()]"
   ]
  },
  {
   "cell_type": "code",
   "execution_count": 317,
   "metadata": {},
   "outputs": [],
   "source": [
    "# merge the three dataframe\n",
    "df_clean = df_clean.merge(json_clean, on='tweet_id')"
   ]
  },
  {
   "cell_type": "code",
   "execution_count": 319,
   "metadata": {},
   "outputs": [
    {
     "name": "stdout",
     "output_type": "stream",
     "text": [
      "<class 'pandas.core.frame.DataFrame'>\n",
      "Int64Index: 1986 entries, 0 to 1985\n",
      "Data columns (total 21 columns):\n",
      "tweet_id              1986 non-null object\n",
      "jpg_url               1986 non-null object\n",
      "img_num               1986 non-null int64\n",
      "p1                    1986 non-null object\n",
      "p1_conf               1986 non-null float64\n",
      "p1_dog                1986 non-null bool\n",
      "p2                    1986 non-null object\n",
      "p2_conf               1986 non-null float64\n",
      "p2_dog                1986 non-null bool\n",
      "p3                    1986 non-null object\n",
      "p3_conf               1986 non-null float64\n",
      "p3_dog                1986 non-null bool\n",
      "timestamp             1986 non-null datetime64[ns]\n",
      "text                  1986 non-null object\n",
      "rating_numerator      1986 non-null int64\n",
      "rating_denominator    1986 non-null int64\n",
      "name                  1986 non-null object\n",
      "stage                 306 non-null object\n",
      "point                 1986 non-null float64\n",
      "favorite_count        1986 non-null object\n",
      "retweet_count         1986 non-null object\n",
      "dtypes: bool(3), datetime64[ns](1), float64(4), int64(3), object(10)\n",
      "memory usage: 300.6+ KB\n"
     ]
    }
   ],
   "source": [
    "df_clean.info()"
   ]
  },
  {
   "cell_type": "code",
   "execution_count": 320,
   "metadata": {},
   "outputs": [
    {
     "data": {
      "text/html": [
       "<div>\n",
       "<style scoped>\n",
       "    .dataframe tbody tr th:only-of-type {\n",
       "        vertical-align: middle;\n",
       "    }\n",
       "\n",
       "    .dataframe tbody tr th {\n",
       "        vertical-align: top;\n",
       "    }\n",
       "\n",
       "    .dataframe thead th {\n",
       "        text-align: right;\n",
       "    }\n",
       "</style>\n",
       "<table border=\"1\" class=\"dataframe\">\n",
       "  <thead>\n",
       "    <tr style=\"text-align: right;\">\n",
       "      <th></th>\n",
       "      <th>tweet_id</th>\n",
       "      <th>jpg_url</th>\n",
       "      <th>img_num</th>\n",
       "      <th>p1</th>\n",
       "      <th>p1_conf</th>\n",
       "      <th>p1_dog</th>\n",
       "      <th>p2</th>\n",
       "      <th>p2_conf</th>\n",
       "      <th>p2_dog</th>\n",
       "      <th>p3</th>\n",
       "      <th>...</th>\n",
       "      <th>p3_dog</th>\n",
       "      <th>timestamp</th>\n",
       "      <th>text</th>\n",
       "      <th>rating_numerator</th>\n",
       "      <th>rating_denominator</th>\n",
       "      <th>name</th>\n",
       "      <th>stage</th>\n",
       "      <th>point</th>\n",
       "      <th>favorite_count</th>\n",
       "      <th>retweet_count</th>\n",
       "    </tr>\n",
       "  </thead>\n",
       "  <tbody>\n",
       "    <tr>\n",
       "      <th>752</th>\n",
       "      <td>688916208532455424</td>\n",
       "      <td>https://pbs.twimg.com/media/CY-Fn1FWEAQhzhs.jpg</td>\n",
       "      <td>1</td>\n",
       "      <td>Pembroke</td>\n",
       "      <td>0.430544</td>\n",
       "      <td>True</td>\n",
       "      <td>red_fox</td>\n",
       "      <td>0.206576</td>\n",
       "      <td>False</td>\n",
       "      <td>Pomeranian</td>\n",
       "      <td>...</td>\n",
       "      <td>True</td>\n",
       "      <td>2016-01-18 02:49:58</td>\n",
       "      <td>This pupper just wants to say hello. 11/10 wou...</td>\n",
       "      <td>11</td>\n",
       "      <td>10</td>\n",
       "      <td>None</td>\n",
       "      <td>pupper</td>\n",
       "      <td>1.1</td>\n",
       "      <td>2936</td>\n",
       "      <td>960</td>\n",
       "    </tr>\n",
       "    <tr>\n",
       "      <th>1019</th>\n",
       "      <td>712065007010385924</td>\n",
       "      <td>https://pbs.twimg.com/media/CeHDV73W0AM5Cf8.jpg</td>\n",
       "      <td>1</td>\n",
       "      <td>goose</td>\n",
       "      <td>0.214301</td>\n",
       "      <td>False</td>\n",
       "      <td>gibbon</td>\n",
       "      <td>0.084253</td>\n",
       "      <td>False</td>\n",
       "      <td>pizza</td>\n",
       "      <td>...</td>\n",
       "      <td>False</td>\n",
       "      <td>2016-03-21 23:55:01</td>\n",
       "      <td>This is Chester. He's clearly in charge of the...</td>\n",
       "      <td>6</td>\n",
       "      <td>10</td>\n",
       "      <td>Chester</td>\n",
       "      <td>None</td>\n",
       "      <td>0.6</td>\n",
       "      <td>2419</td>\n",
       "      <td>691</td>\n",
       "    </tr>\n",
       "    <tr>\n",
       "      <th>492</th>\n",
       "      <td>675853064436391936</td>\n",
       "      <td>https://pbs.twimg.com/media/CWEcxqWVEAAHyGH.jpg</td>\n",
       "      <td>1</td>\n",
       "      <td>Labrador_retriever</td>\n",
       "      <td>0.868367</td>\n",
       "      <td>True</td>\n",
       "      <td>golden_retriever</td>\n",
       "      <td>0.043305</td>\n",
       "      <td>True</td>\n",
       "      <td>vizsla</td>\n",
       "      <td>...</td>\n",
       "      <td>True</td>\n",
       "      <td>2015-12-13 01:41:41</td>\n",
       "      <td>Here we have an entire platoon of puppers. Tot...</td>\n",
       "      <td>88</td>\n",
       "      <td>80</td>\n",
       "      <td>None</td>\n",
       "      <td>None</td>\n",
       "      <td>1.1</td>\n",
       "      <td>2852</td>\n",
       "      <td>1417</td>\n",
       "    </tr>\n",
       "    <tr>\n",
       "      <th>2</th>\n",
       "      <td>666033412701032449</td>\n",
       "      <td>https://pbs.twimg.com/media/CT4521TWwAEvMyu.jpg</td>\n",
       "      <td>1</td>\n",
       "      <td>German_shepherd</td>\n",
       "      <td>0.596461</td>\n",
       "      <td>True</td>\n",
       "      <td>malinois</td>\n",
       "      <td>0.138584</td>\n",
       "      <td>True</td>\n",
       "      <td>bloodhound</td>\n",
       "      <td>...</td>\n",
       "      <td>True</td>\n",
       "      <td>2015-11-15 23:21:54</td>\n",
       "      <td>Here is a very happy pup. Big fan of well-main...</td>\n",
       "      <td>9</td>\n",
       "      <td>10</td>\n",
       "      <td>a</td>\n",
       "      <td>None</td>\n",
       "      <td>0.9</td>\n",
       "      <td>125</td>\n",
       "      <td>45</td>\n",
       "    </tr>\n",
       "    <tr>\n",
       "      <th>554</th>\n",
       "      <td>678255464182861824</td>\n",
       "      <td>https://pbs.twimg.com/media/CWmlvxJU4AEAqaN.jpg</td>\n",
       "      <td>1</td>\n",
       "      <td>Chihuahua</td>\n",
       "      <td>0.613819</td>\n",
       "      <td>True</td>\n",
       "      <td>Yorkshire_terrier</td>\n",
       "      <td>0.127931</td>\n",
       "      <td>True</td>\n",
       "      <td>Pomeranian</td>\n",
       "      <td>...</td>\n",
       "      <td>True</td>\n",
       "      <td>2015-12-19 16:47:58</td>\n",
       "      <td>This is Jessifer. She is a Bismoth Teriyaki. F...</td>\n",
       "      <td>9</td>\n",
       "      <td>10</td>\n",
       "      <td>Jessifer</td>\n",
       "      <td>None</td>\n",
       "      <td>0.9</td>\n",
       "      <td>1693</td>\n",
       "      <td>408</td>\n",
       "    </tr>\n",
       "  </tbody>\n",
       "</table>\n",
       "<p>5 rows × 21 columns</p>\n",
       "</div>"
      ],
      "text/plain": [
       "                tweet_id                                          jpg_url  \\\n",
       "752   688916208532455424  https://pbs.twimg.com/media/CY-Fn1FWEAQhzhs.jpg   \n",
       "1019  712065007010385924  https://pbs.twimg.com/media/CeHDV73W0AM5Cf8.jpg   \n",
       "492   675853064436391936  https://pbs.twimg.com/media/CWEcxqWVEAAHyGH.jpg   \n",
       "2     666033412701032449  https://pbs.twimg.com/media/CT4521TWwAEvMyu.jpg   \n",
       "554   678255464182861824  https://pbs.twimg.com/media/CWmlvxJU4AEAqaN.jpg   \n",
       "\n",
       "      img_num                  p1   p1_conf  p1_dog                 p2  \\\n",
       "752         1            Pembroke  0.430544    True            red_fox   \n",
       "1019        1               goose  0.214301   False             gibbon   \n",
       "492         1  Labrador_retriever  0.868367    True   golden_retriever   \n",
       "2           1     German_shepherd  0.596461    True           malinois   \n",
       "554         1           Chihuahua  0.613819    True  Yorkshire_terrier   \n",
       "\n",
       "       p2_conf  p2_dog          p3      ...       p3_dog           timestamp  \\\n",
       "752   0.206576   False  Pomeranian      ...         True 2016-01-18 02:49:58   \n",
       "1019  0.084253   False       pizza      ...        False 2016-03-21 23:55:01   \n",
       "492   0.043305    True      vizsla      ...         True 2015-12-13 01:41:41   \n",
       "2     0.138584    True  bloodhound      ...         True 2015-11-15 23:21:54   \n",
       "554   0.127931    True  Pomeranian      ...         True 2015-12-19 16:47:58   \n",
       "\n",
       "                                                   text rating_numerator  \\\n",
       "752   This pupper just wants to say hello. 11/10 wou...               11   \n",
       "1019  This is Chester. He's clearly in charge of the...                6   \n",
       "492   Here we have an entire platoon of puppers. Tot...               88   \n",
       "2     Here is a very happy pup. Big fan of well-main...                9   \n",
       "554   This is Jessifer. She is a Bismoth Teriyaki. F...                9   \n",
       "\n",
       "      rating_denominator      name   stage point  favorite_count retweet_count  \n",
       "752                   10      None  pupper   1.1            2936           960  \n",
       "1019                  10   Chester    None   0.6            2419           691  \n",
       "492                   80      None    None   1.1            2852          1417  \n",
       "2                     10         a    None   0.9             125            45  \n",
       "554                   10  Jessifer    None   0.9            1693           408  \n",
       "\n",
       "[5 rows x 21 columns]"
      ]
     },
     "execution_count": 320,
     "metadata": {},
     "output_type": "execute_result"
    }
   ],
   "source": [
    "df_clean.sample(5)"
   ]
  },
  {
   "cell_type": "code",
   "execution_count": 322,
   "metadata": {},
   "outputs": [
    {
     "data": {
      "text/plain": [
       "Index(['tweet_id', 'jpg_url', 'img_num', 'p1', 'p1_conf', 'p1_dog', 'p2',\n",
       "       'p2_conf', 'p2_dog', 'p3', 'p3_conf', 'p3_dog', 'timestamp', 'text',\n",
       "       'rating_numerator', 'rating_denominator', 'name', 'stage', 'point',\n",
       "       'favorite_count', 'retweet_count'],\n",
       "      dtype='object')"
      ]
     },
     "execution_count": 322,
     "metadata": {},
     "output_type": "execute_result"
    }
   ],
   "source": [
    "df_clean.columns"
   ]
  },
  {
   "cell_type": "code",
   "execution_count": 327,
   "metadata": {},
   "outputs": [],
   "source": [
    "# delete useless columns\n",
    "df_clean = df_clean.drop(['p2','p2_conf', 'p2_dog', 'p3', 'p3_conf', 'p3_dog','rating_numerator', 'rating_denominator', 'img_num'], axis=1)"
   ]
  },
  {
   "cell_type": "code",
   "execution_count": 328,
   "metadata": {},
   "outputs": [
    {
     "name": "stdout",
     "output_type": "stream",
     "text": [
      "<class 'pandas.core.frame.DataFrame'>\n",
      "Int64Index: 1986 entries, 0 to 1985\n",
      "Data columns (total 12 columns):\n",
      "tweet_id          1986 non-null object\n",
      "jpg_url           1986 non-null object\n",
      "p1                1986 non-null object\n",
      "p1_conf           1986 non-null float64\n",
      "p1_dog            1986 non-null bool\n",
      "timestamp         1986 non-null datetime64[ns]\n",
      "text              1986 non-null object\n",
      "name              1986 non-null object\n",
      "stage             306 non-null object\n",
      "point             1986 non-null float64\n",
      "favorite_count    1986 non-null object\n",
      "retweet_count     1986 non-null object\n",
      "dtypes: bool(1), datetime64[ns](1), float64(2), object(8)\n",
      "memory usage: 268.1+ KB\n"
     ]
    }
   ],
   "source": [
    "# test\n",
    "df_clean.info()"
   ]
  },
  {
   "cell_type": "code",
   "execution_count": 333,
   "metadata": {},
   "outputs": [],
   "source": [
    "# drop duplicated ones\n",
    "df_clean = df_clean.drop_duplicates('tweet_id')"
   ]
  },
  {
   "cell_type": "code",
   "execution_count": 334,
   "metadata": {},
   "outputs": [],
   "source": [
    "# save df_clean\n",
    "df_clean.to_csv('twitter_archive_master.csv')"
   ]
  }
 ],
 "metadata": {
  "kernelspec": {
   "display_name": "Python [conda env:wrangle]",
   "language": "python",
   "name": "conda-env-wrangle-py"
  },
  "language_info": {
   "codemirror_mode": {
    "name": "ipython",
    "version": 3
   },
   "file_extension": ".py",
   "mimetype": "text/x-python",
   "name": "python",
   "nbconvert_exporter": "python",
   "pygments_lexer": "ipython3",
   "version": "3.6.5"
  }
 },
 "nbformat": 4,
 "nbformat_minor": 2
}
